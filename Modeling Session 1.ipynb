{
 "cells": [
  {
   "cell_type": "code",
   "execution_count": 13,
   "metadata": {},
   "outputs": [],
   "source": [
    "import numpy as np\n",
    "import pandas as pd\n",
    "import seaborn as sns\n",
    "from matplotlib import pyplot as plt\n",
    "import re\n",
    "\n",
    "%matplotlib inline"
   ]
  },
  {
   "cell_type": "code",
   "execution_count": 14,
   "metadata": {},
   "outputs": [],
   "source": [
    "df = pd.read_csv('final_data_v2.csv')\n",
    "df.drop(df.columns[0], axis = 1, inplace = True)"
   ]
  },
  {
   "cell_type": "markdown",
   "metadata": {},
   "source": [
    "# Basic Feature Engineering"
   ]
  },
  {
   "cell_type": "code",
   "execution_count": 15,
   "metadata": {},
   "outputs": [],
   "source": [
    "winner_dict = {\n",
    "    'Red': 1,\n",
    "    'Blue': 0,\n",
    "}\n",
    "\n",
    "bool_dict = {\n",
    "    True: 1,\n",
    "    False: 0\n",
    "  \n",
    "}\n",
    "\n",
    "df['Winner'] = df['Winner'].replace(winner_dict)\n",
    "df['title_bout'] = df['title_bout'].replace(bool_dict)"
   ]
  },
  {
   "cell_type": "code",
   "execution_count": 16,
   "metadata": {},
   "outputs": [],
   "source": [
    "df['Reach_diff'] = df['R_Reach_cms'] - df['B_Reach_cms']\n",
    "df['Weight_diff'] = df['R_Weight_lbs'] - df['B_Weight_lbs']\n",
    "df['Height_diff'] = df['R_Height_cms'] - df['B_Height_cms']"
   ]
  },
  {
   "cell_type": "code",
   "execution_count": 389,
   "metadata": {},
   "outputs": [],
   "source": [
    "def accuracy(data, att, landed):\n",
    "    accuracy = []\n",
    "    for attempt, land in zip(data[att], data[landed]):\n",
    "        try:\n",
    "            accuracy.append(land/attempt)\n",
    "        except:\n",
    "            accuracy.append(0)\n",
    "            \n",
    "    return accuracy\n",
    "\n"
   ]
  },
  {
   "cell_type": "code",
   "execution_count": 18,
   "metadata": {},
   "outputs": [],
   "source": [
    "accuracy_metrics = [('B_avg_BODY_att', 'B_avg_BODY_landed'), \n",
    "                    ('B_avg_CLINCH_att', 'B_avg_CLINCH_landed'),\n",
    "                   ('B_avg_DISTANCE_att', 'B_avg_DISTANCE_landed'),\n",
    "                   ('B_avg_GROUND_att', 'B_avg_GROUND_landed'),\n",
    "                   ('B_avg_HEAD_att', 'B_avg_HEAD_landed'),\n",
    "                   ('B_avg_LEG_att', 'B_avg_LEG_landed'),\n",
    "                   ('B_avg_TOTAL_STR_att', 'B_avg_TOTAL_STR_landed'),\n",
    "                   ('R_avg_BODY_att', 'R_avg_BODY_landed'), \n",
    "                    ('R_avg_CLINCH_att', 'R_avg_CLINCH_landed'),\n",
    "                   ('R_avg_DISTANCE_att', 'R_avg_DISTANCE_landed'),\n",
    "                   ('R_avg_GROUND_att', 'R_avg_GROUND_landed'),\n",
    "                   ('R_avg_HEAD_att', 'R_avg_HEAD_landed'),\n",
    "                   ('R_avg_LEG_att', 'R_avg_LEG_landed'),\n",
    "                   ('R_avg_TOTAL_STR_att', 'R_avg_TOTAL_STR_landed')]\n",
    "\n",
    "accuracy_list = []\n",
    "for item in accuracy_metrics:\n",
    "    accuracy_list.append(accuracy(df, item[0], item[1]))"
   ]
  },
  {
   "cell_type": "code",
   "execution_count": 19,
   "metadata": {},
   "outputs": [],
   "source": [
    "accuracy_df = pd.DataFrame(accuracy_list).transpose()"
   ]
  },
  {
   "cell_type": "code",
   "execution_count": 20,
   "metadata": {},
   "outputs": [],
   "source": [
    "accuracy_df.columns = ['B_avg_BODY_pct', 'B_avg_CLINCH_pct', 'B_avg_DISTANCE_pct', 'B_avg_GROUND_pct',\n",
    "                      'B_avg_HEAD_pct', 'B_avg_LEG_pct', 'B_avg_TOTAL_STR_pct',\n",
    "                      'R_avg_BODY_pct', 'R_avg_CLINCH_pct', 'R_avg_DISTANCE_pct', 'R_avg_GROUND_pct',\n",
    "                      'R_avg_HEAD_pct', 'R_avg_LEG_pct', 'R_avg_TOTAL_STR_pct']"
   ]
  },
  {
   "cell_type": "code",
   "execution_count": 21,
   "metadata": {},
   "outputs": [
    {
     "data": {
      "text/plain": [
       "(3758, 163)"
      ]
     },
     "execution_count": 21,
     "metadata": {},
     "output_type": "execute_result"
    }
   ],
   "source": [
    "df.shape"
   ]
  },
  {
   "cell_type": "code",
   "execution_count": 22,
   "metadata": {},
   "outputs": [],
   "source": [
    "combined_df = pd.concat([df, accuracy_df], axis = 1)\n"
   ]
  },
  {
   "cell_type": "code",
   "execution_count": 23,
   "metadata": {},
   "outputs": [
    {
     "data": {
      "text/plain": [
       "0.6774880255455029"
      ]
     },
     "execution_count": 23,
     "metadata": {},
     "output_type": "execute_result"
    }
   ],
   "source": [
    "np.mean(combined_df.Winner)"
   ]
  },
  {
   "cell_type": "code",
   "execution_count": 24,
   "metadata": {},
   "outputs": [
    {
     "data": {
      "text/html": [
       "<div>\n",
       "<style scoped>\n",
       "    .dataframe tbody tr th:only-of-type {\n",
       "        vertical-align: middle;\n",
       "    }\n",
       "\n",
       "    .dataframe tbody tr th {\n",
       "        vertical-align: top;\n",
       "    }\n",
       "\n",
       "    .dataframe thead th {\n",
       "        text-align: right;\n",
       "    }\n",
       "</style>\n",
       "<table border=\"1\" class=\"dataframe\">\n",
       "  <thead>\n",
       "    <tr style=\"text-align: right;\">\n",
       "      <th></th>\n",
       "      <th>title_bout</th>\n",
       "      <th>no_of_rounds</th>\n",
       "      <th>B_current_lose_streak</th>\n",
       "      <th>B_current_win_streak</th>\n",
       "      <th>B_draw</th>\n",
       "      <th>B_avg_BODY_att</th>\n",
       "      <th>B_avg_BODY_landed</th>\n",
       "      <th>B_avg_CLINCH_att</th>\n",
       "      <th>B_avg_CLINCH_landed</th>\n",
       "      <th>B_avg_DISTANCE_att</th>\n",
       "      <th>...</th>\n",
       "      <th>B_avg_HEAD_pct</th>\n",
       "      <th>B_avg_LEG_pct</th>\n",
       "      <th>B_avg_TOTAL_STR_pct</th>\n",
       "      <th>R_avg_BODY_pct</th>\n",
       "      <th>R_avg_CLINCH_pct</th>\n",
       "      <th>R_avg_DISTANCE_pct</th>\n",
       "      <th>R_avg_GROUND_pct</th>\n",
       "      <th>R_avg_HEAD_pct</th>\n",
       "      <th>R_avg_LEG_pct</th>\n",
       "      <th>R_avg_TOTAL_STR_pct</th>\n",
       "    </tr>\n",
       "  </thead>\n",
       "  <tbody>\n",
       "    <tr>\n",
       "      <th>0</th>\n",
       "      <td>0</td>\n",
       "      <td>5</td>\n",
       "      <td>1.0</td>\n",
       "      <td>0.0</td>\n",
       "      <td>0.0</td>\n",
       "      <td>10.500000</td>\n",
       "      <td>6.916667</td>\n",
       "      <td>6.583333</td>\n",
       "      <td>4.083333</td>\n",
       "      <td>34.166667</td>\n",
       "      <td>...</td>\n",
       "      <td>0.477876</td>\n",
       "      <td>0.851852</td>\n",
       "      <td>0.609032</td>\n",
       "      <td>0.733333</td>\n",
       "      <td>0.720000</td>\n",
       "      <td>0.434018</td>\n",
       "      <td>0.715596</td>\n",
       "      <td>0.438621</td>\n",
       "      <td>0.935484</td>\n",
       "      <td>0.575158</td>\n",
       "    </tr>\n",
       "    <tr>\n",
       "      <th>1</th>\n",
       "      <td>0</td>\n",
       "      <td>3</td>\n",
       "      <td>2.0</td>\n",
       "      <td>0.0</td>\n",
       "      <td>0.0</td>\n",
       "      <td>8.600000</td>\n",
       "      <td>6.800000</td>\n",
       "      <td>6.400000</td>\n",
       "      <td>5.400000</td>\n",
       "      <td>26.200000</td>\n",
       "      <td>...</td>\n",
       "      <td>0.323529</td>\n",
       "      <td>0.793103</td>\n",
       "      <td>0.654676</td>\n",
       "      <td>0.733333</td>\n",
       "      <td>0.697143</td>\n",
       "      <td>0.467532</td>\n",
       "      <td>0.658537</td>\n",
       "      <td>0.435223</td>\n",
       "      <td>0.782178</td>\n",
       "      <td>0.610981</td>\n",
       "    </tr>\n",
       "    <tr>\n",
       "      <th>2</th>\n",
       "      <td>0</td>\n",
       "      <td>1</td>\n",
       "      <td>2.0</td>\n",
       "      <td>0.0</td>\n",
       "      <td>0.0</td>\n",
       "      <td>8.666667</td>\n",
       "      <td>4.666667</td>\n",
       "      <td>6.666667</td>\n",
       "      <td>5.000000</td>\n",
       "      <td>64.666667</td>\n",
       "      <td>...</td>\n",
       "      <td>0.496774</td>\n",
       "      <td>0.666667</td>\n",
       "      <td>0.590909</td>\n",
       "      <td>0.666667</td>\n",
       "      <td>0.718954</td>\n",
       "      <td>0.407681</td>\n",
       "      <td>0.707317</td>\n",
       "      <td>0.395672</td>\n",
       "      <td>0.787037</td>\n",
       "      <td>0.588138</td>\n",
       "    </tr>\n",
       "    <tr>\n",
       "      <th>3</th>\n",
       "      <td>0</td>\n",
       "      <td>3</td>\n",
       "      <td>2.0</td>\n",
       "      <td>0.0</td>\n",
       "      <td>0.0</td>\n",
       "      <td>8.250000</td>\n",
       "      <td>5.250000</td>\n",
       "      <td>1.833333</td>\n",
       "      <td>0.916667</td>\n",
       "      <td>64.500000</td>\n",
       "      <td>...</td>\n",
       "      <td>0.391489</td>\n",
       "      <td>0.821429</td>\n",
       "      <td>0.481522</td>\n",
       "      <td>0.674157</td>\n",
       "      <td>0.533333</td>\n",
       "      <td>0.458462</td>\n",
       "      <td>0.606061</td>\n",
       "      <td>0.422018</td>\n",
       "      <td>0.714286</td>\n",
       "      <td>0.490317</td>\n",
       "    </tr>\n",
       "    <tr>\n",
       "      <th>4</th>\n",
       "      <td>0</td>\n",
       "      <td>3</td>\n",
       "      <td>1.0</td>\n",
       "      <td>0.0</td>\n",
       "      <td>0.0</td>\n",
       "      <td>24.333333</td>\n",
       "      <td>16.555556</td>\n",
       "      <td>12.333333</td>\n",
       "      <td>10.444444</td>\n",
       "      <td>108.444444</td>\n",
       "      <td>...</td>\n",
       "      <td>0.371827</td>\n",
       "      <td>0.804196</td>\n",
       "      <td>0.519873</td>\n",
       "      <td>0.794643</td>\n",
       "      <td>0.723529</td>\n",
       "      <td>0.384615</td>\n",
       "      <td>0.648485</td>\n",
       "      <td>0.354223</td>\n",
       "      <td>0.865169</td>\n",
       "      <td>0.522985</td>\n",
       "    </tr>\n",
       "    <tr>\n",
       "      <th>...</th>\n",
       "      <td>...</td>\n",
       "      <td>...</td>\n",
       "      <td>...</td>\n",
       "      <td>...</td>\n",
       "      <td>...</td>\n",
       "      <td>...</td>\n",
       "      <td>...</td>\n",
       "      <td>...</td>\n",
       "      <td>...</td>\n",
       "      <td>...</td>\n",
       "      <td>...</td>\n",
       "      <td>...</td>\n",
       "      <td>...</td>\n",
       "      <td>...</td>\n",
       "      <td>...</td>\n",
       "      <td>...</td>\n",
       "      <td>...</td>\n",
       "      <td>...</td>\n",
       "      <td>...</td>\n",
       "      <td>...</td>\n",
       "      <td>...</td>\n",
       "    </tr>\n",
       "    <tr>\n",
       "      <th>3753</th>\n",
       "      <td>0</td>\n",
       "      <td>1</td>\n",
       "      <td>0.0</td>\n",
       "      <td>1.0</td>\n",
       "      <td>0.0</td>\n",
       "      <td>1.000000</td>\n",
       "      <td>1.000000</td>\n",
       "      <td>0.000000</td>\n",
       "      <td>0.000000</td>\n",
       "      <td>3.000000</td>\n",
       "      <td>...</td>\n",
       "      <td>0.636364</td>\n",
       "      <td>0.000000</td>\n",
       "      <td>0.733333</td>\n",
       "      <td>0.000000</td>\n",
       "      <td>0.000000</td>\n",
       "      <td>0.000000</td>\n",
       "      <td>0.800000</td>\n",
       "      <td>0.800000</td>\n",
       "      <td>0.000000</td>\n",
       "      <td>0.909091</td>\n",
       "    </tr>\n",
       "    <tr>\n",
       "      <th>3754</th>\n",
       "      <td>0</td>\n",
       "      <td>1</td>\n",
       "      <td>0.0</td>\n",
       "      <td>1.0</td>\n",
       "      <td>0.0</td>\n",
       "      <td>0.000000</td>\n",
       "      <td>0.000000</td>\n",
       "      <td>1.000000</td>\n",
       "      <td>1.000000</td>\n",
       "      <td>0.000000</td>\n",
       "      <td>...</td>\n",
       "      <td>1.000000</td>\n",
       "      <td>0.000000</td>\n",
       "      <td>1.000000</td>\n",
       "      <td>1.000000</td>\n",
       "      <td>1.000000</td>\n",
       "      <td>1.000000</td>\n",
       "      <td>0.333333</td>\n",
       "      <td>0.250000</td>\n",
       "      <td>0.666667</td>\n",
       "      <td>0.809524</td>\n",
       "    </tr>\n",
       "    <tr>\n",
       "      <th>3755</th>\n",
       "      <td>1</td>\n",
       "      <td>1</td>\n",
       "      <td>0.0</td>\n",
       "      <td>2.0</td>\n",
       "      <td>0.0</td>\n",
       "      <td>0.500000</td>\n",
       "      <td>0.500000</td>\n",
       "      <td>0.000000</td>\n",
       "      <td>0.000000</td>\n",
       "      <td>5.500000</td>\n",
       "      <td>...</td>\n",
       "      <td>0.555556</td>\n",
       "      <td>1.000000</td>\n",
       "      <td>0.636364</td>\n",
       "      <td>0.000000</td>\n",
       "      <td>0.000000</td>\n",
       "      <td>0.000000</td>\n",
       "      <td>0.000000</td>\n",
       "      <td>0.000000</td>\n",
       "      <td>0.000000</td>\n",
       "      <td>0.842105</td>\n",
       "    </tr>\n",
       "    <tr>\n",
       "      <th>3756</th>\n",
       "      <td>0</td>\n",
       "      <td>1</td>\n",
       "      <td>0.0</td>\n",
       "      <td>1.0</td>\n",
       "      <td>0.0</td>\n",
       "      <td>0.000000</td>\n",
       "      <td>0.000000</td>\n",
       "      <td>0.000000</td>\n",
       "      <td>0.000000</td>\n",
       "      <td>0.000000</td>\n",
       "      <td>...</td>\n",
       "      <td>1.000000</td>\n",
       "      <td>0.000000</td>\n",
       "      <td>1.000000</td>\n",
       "      <td>0.000000</td>\n",
       "      <td>0.000000</td>\n",
       "      <td>0.000000</td>\n",
       "      <td>0.000000</td>\n",
       "      <td>0.000000</td>\n",
       "      <td>0.000000</td>\n",
       "      <td>0.571429</td>\n",
       "    </tr>\n",
       "    <tr>\n",
       "      <th>3757</th>\n",
       "      <td>0</td>\n",
       "      <td>1</td>\n",
       "      <td>0.0</td>\n",
       "      <td>1.0</td>\n",
       "      <td>0.0</td>\n",
       "      <td>4.000000</td>\n",
       "      <td>3.000000</td>\n",
       "      <td>9.000000</td>\n",
       "      <td>4.000000</td>\n",
       "      <td>10.000000</td>\n",
       "      <td>...</td>\n",
       "      <td>0.521739</td>\n",
       "      <td>0.000000</td>\n",
       "      <td>0.716981</td>\n",
       "      <td>0.000000</td>\n",
       "      <td>0.000000</td>\n",
       "      <td>0.333333</td>\n",
       "      <td>1.000000</td>\n",
       "      <td>0.600000</td>\n",
       "      <td>0.000000</td>\n",
       "      <td>0.600000</td>\n",
       "    </tr>\n",
       "  </tbody>\n",
       "</table>\n",
       "<p>3758 rows × 176 columns</p>\n",
       "</div>"
      ],
      "text/plain": [
       "      title_bout  no_of_rounds  B_current_lose_streak  B_current_win_streak  \\\n",
       "0              0             5                    1.0                   0.0   \n",
       "1              0             3                    2.0                   0.0   \n",
       "2              0             1                    2.0                   0.0   \n",
       "3              0             3                    2.0                   0.0   \n",
       "4              0             3                    1.0                   0.0   \n",
       "...          ...           ...                    ...                   ...   \n",
       "3753           0             1                    0.0                   1.0   \n",
       "3754           0             1                    0.0                   1.0   \n",
       "3755           1             1                    0.0                   2.0   \n",
       "3756           0             1                    0.0                   1.0   \n",
       "3757           0             1                    0.0                   1.0   \n",
       "\n",
       "      B_draw  B_avg_BODY_att  B_avg_BODY_landed  B_avg_CLINCH_att  \\\n",
       "0        0.0       10.500000           6.916667          6.583333   \n",
       "1        0.0        8.600000           6.800000          6.400000   \n",
       "2        0.0        8.666667           4.666667          6.666667   \n",
       "3        0.0        8.250000           5.250000          1.833333   \n",
       "4        0.0       24.333333          16.555556         12.333333   \n",
       "...      ...             ...                ...               ...   \n",
       "3753     0.0        1.000000           1.000000          0.000000   \n",
       "3754     0.0        0.000000           0.000000          1.000000   \n",
       "3755     0.0        0.500000           0.500000          0.000000   \n",
       "3756     0.0        0.000000           0.000000          0.000000   \n",
       "3757     0.0        4.000000           3.000000          9.000000   \n",
       "\n",
       "      B_avg_CLINCH_landed  B_avg_DISTANCE_att  ...  B_avg_HEAD_pct  \\\n",
       "0                4.083333           34.166667  ...        0.477876   \n",
       "1                5.400000           26.200000  ...        0.323529   \n",
       "2                5.000000           64.666667  ...        0.496774   \n",
       "3                0.916667           64.500000  ...        0.391489   \n",
       "4               10.444444          108.444444  ...        0.371827   \n",
       "...                   ...                 ...  ...             ...   \n",
       "3753             0.000000            3.000000  ...        0.636364   \n",
       "3754             1.000000            0.000000  ...        1.000000   \n",
       "3755             0.000000            5.500000  ...        0.555556   \n",
       "3756             0.000000            0.000000  ...        1.000000   \n",
       "3757             4.000000           10.000000  ...        0.521739   \n",
       "\n",
       "      B_avg_LEG_pct  B_avg_TOTAL_STR_pct  R_avg_BODY_pct  R_avg_CLINCH_pct  \\\n",
       "0          0.851852             0.609032        0.733333          0.720000   \n",
       "1          0.793103             0.654676        0.733333          0.697143   \n",
       "2          0.666667             0.590909        0.666667          0.718954   \n",
       "3          0.821429             0.481522        0.674157          0.533333   \n",
       "4          0.804196             0.519873        0.794643          0.723529   \n",
       "...             ...                  ...             ...               ...   \n",
       "3753       0.000000             0.733333        0.000000          0.000000   \n",
       "3754       0.000000             1.000000        1.000000          1.000000   \n",
       "3755       1.000000             0.636364        0.000000          0.000000   \n",
       "3756       0.000000             1.000000        0.000000          0.000000   \n",
       "3757       0.000000             0.716981        0.000000          0.000000   \n",
       "\n",
       "      R_avg_DISTANCE_pct  R_avg_GROUND_pct  R_avg_HEAD_pct  R_avg_LEG_pct  \\\n",
       "0               0.434018          0.715596        0.438621       0.935484   \n",
       "1               0.467532          0.658537        0.435223       0.782178   \n",
       "2               0.407681          0.707317        0.395672       0.787037   \n",
       "3               0.458462          0.606061        0.422018       0.714286   \n",
       "4               0.384615          0.648485        0.354223       0.865169   \n",
       "...                  ...               ...             ...            ...   \n",
       "3753            0.000000          0.800000        0.800000       0.000000   \n",
       "3754            1.000000          0.333333        0.250000       0.666667   \n",
       "3755            0.000000          0.000000        0.000000       0.000000   \n",
       "3756            0.000000          0.000000        0.000000       0.000000   \n",
       "3757            0.333333          1.000000        0.600000       0.000000   \n",
       "\n",
       "      R_avg_TOTAL_STR_pct  \n",
       "0                0.575158  \n",
       "1                0.610981  \n",
       "2                0.588138  \n",
       "3                0.490317  \n",
       "4                0.522985  \n",
       "...                   ...  \n",
       "3753             0.909091  \n",
       "3754             0.809524  \n",
       "3755             0.842105  \n",
       "3756             0.571429  \n",
       "3757             0.600000  \n",
       "\n",
       "[3758 rows x 176 columns]"
      ]
     },
     "execution_count": 24,
     "metadata": {},
     "output_type": "execute_result"
    }
   ],
   "source": [
    "combined_df.iloc[:, 1:]"
   ]
  },
  {
   "cell_type": "markdown",
   "metadata": {},
   "source": [
    "### Scaling the Data"
   ]
  },
  {
   "cell_type": "code",
   "execution_count": 25,
   "metadata": {},
   "outputs": [],
   "source": [
    "from sklearn import preprocessing"
   ]
  },
  {
   "cell_type": "code",
   "execution_count": 26,
   "metadata": {},
   "outputs": [],
   "source": [
    "categorical = ['title_bout', 'weight_class_Bantamweight',\n",
    "              'weight_class_Catch Weight', 'weight_class_Featherweight',\n",
    "              'weight_class_Flyweight', 'weight_class_Heavyweight',\n",
    "              'weight_class_Light Heavyweight', 'weight_class_Lightweight',\n",
    "              'weight_class_Middleweight', 'weight_class_Open Weight',\n",
    "              'weight_class_Welterweight', \"weight_class_Women's Bantamweight\",\n",
    "              \"weight_class_Women's Featherweight\", \"weight_class_Women's Flyweight\",\n",
    "              \"weight_class_Women's Strawweight\", 'B_Stance_Open Stance',\n",
    "              'B_Stance_Orthodox', 'B_Stance_Sideways', 'B_Stance_Southpaw',\n",
    "              'B_Stance_Switch', 'R_Stance_Open Stance', 'R_Stance_Orthodox',\n",
    "              'R_Stance_Southpaw', 'R_Stance_Switch']"
   ]
  },
  {
   "cell_type": "code",
   "execution_count": 27,
   "metadata": {},
   "outputs": [],
   "source": [
    "continuous = list(set(combined_df.columns[1:])-set(categorical))"
   ]
  },
  {
   "cell_type": "code",
   "execution_count": 28,
   "metadata": {},
   "outputs": [
    {
     "name": "stdout",
     "output_type": "stream",
     "text": [
      "152 24 (3758, 177)\n"
     ]
    }
   ],
   "source": [
    "print(len(continuous), len(categorical), combined_df.shape)"
   ]
  },
  {
   "cell_type": "code",
   "execution_count": 29,
   "metadata": {},
   "outputs": [],
   "source": [
    "df_scaled = preprocessing.scale(combined_df[continuous])\n",
    "df_scaled = pd.DataFrame(df_scaled, columns = continuous)"
   ]
  },
  {
   "cell_type": "code",
   "execution_count": 30,
   "metadata": {},
   "outputs": [],
   "source": [
    "df_scaled = pd.concat([df_scaled, combined_df[categorical]], axis = 1)"
   ]
  },
  {
   "cell_type": "code",
   "execution_count": 31,
   "metadata": {},
   "outputs": [],
   "source": [
    "combined_scaled = pd.concat([df_scaled, combined_df.Winner], axis = 1)"
   ]
  },
  {
   "cell_type": "markdown",
   "metadata": {},
   "source": [
    "### Train/Validate/Test Split"
   ]
  },
  {
   "cell_type": "code",
   "execution_count": null,
   "metadata": {},
   "outputs": [],
   "source": []
  },
  {
   "cell_type": "code",
   "execution_count": 32,
   "metadata": {},
   "outputs": [],
   "source": [
    "from sklearn.model_selection import train_test_split"
   ]
  },
  {
   "cell_type": "code",
   "execution_count": 33,
   "metadata": {},
   "outputs": [],
   "source": [
    "X_train, X_testB, y_train, y_testB = train_test_split(df_scaled, combined_df.Winner,\n",
    "                                                      test_size = .3, random_state = 125, stratify = combined_df.Winner)"
   ]
  },
  {
   "cell_type": "code",
   "execution_count": 34,
   "metadata": {},
   "outputs": [],
   "source": [
    "X_val, X_test, y_val, y_test = train_test_split(X_testB, y_testB,\n",
    "                                                      test_size = .5, random_state = 125, stratify = y_testB)"
   ]
  },
  {
   "cell_type": "code",
   "execution_count": 35,
   "metadata": {},
   "outputs": [
    {
     "name": "stdout",
     "output_type": "stream",
     "text": [
      "(2630, 176) (564, 176) (564, 176)\n"
     ]
    }
   ],
   "source": [
    "print(X_train.shape, X_val.shape, X_test.shape)"
   ]
  },
  {
   "cell_type": "markdown",
   "metadata": {},
   "source": [
    "# Logistic regression"
   ]
  },
  {
   "cell_type": "code",
   "execution_count": 36,
   "metadata": {},
   "outputs": [],
   "source": [
    "from sklearn.linear_model import LogisticRegression\n",
    "from sklearn.metrics import confusion_matrix, accuracy_score, roc_auc_score, roc_curve\n",
    "from sklearn.model_selection import GridSearchCV\n"
   ]
  },
  {
   "cell_type": "code",
   "execution_count": 37,
   "metadata": {},
   "outputs": [
    {
     "data": {
      "text/plain": [
       "LogisticRegression(C=1.0, class_weight=None, dual=False, fit_intercept=True,\n",
       "                   intercept_scaling=1, l1_ratio=None, max_iter=1000,\n",
       "                   multi_class='auto', n_jobs=None, penalty='l2',\n",
       "                   random_state=None, solver='lbfgs', tol=0.0001, verbose=0,\n",
       "                   warm_start=False)"
      ]
     },
     "execution_count": 37,
     "metadata": {},
     "output_type": "execute_result"
    }
   ],
   "source": [
    "logMod = LogisticRegression(max_iter=1000)\n",
    "logMod.fit(X_train, y_train)"
   ]
  },
  {
   "cell_type": "code",
   "execution_count": 38,
   "metadata": {},
   "outputs": [
    {
     "name": "stdout",
     "output_type": "stream",
     "text": [
      "Accuracy (30% Test): 0.6933\n",
      "AUC Score (30% Test): 0.7103\n"
     ]
    },
    {
     "data": {
      "image/png": "[encoded data removed]",
      "text/plain": [
       "<Figure size 432x288 with 2 Axes>"
      ]
     },
     "metadata": {
      "needs_background": "light"
     },
     "output_type": "display_data"
    }
   ],
   "source": [
    "y_predictions = logMod.predict(X_testB)\n",
    "cm_log = confusion_matrix(y_testB, y_predictions)\n",
    "sns.heatmap(cm_log, annot = True, fmt = 'd', cmap = 'Blues')\n",
    "\n",
    "print(f\"Accuracy (30% Test): {accuracy_score(y_testB, y_predictions):.4f}\")\n",
    "print(f\"AUC Score (30% Test): {roc_auc_score(y_testB, logMod.predict_proba(X_testB)[:,1]):.4f}\")"
   ]
  },
  {
   "cell_type": "markdown",
   "metadata": {},
   "source": [
    "### Regularization & Cross Validation"
   ]
  },
  {
   "cell_type": "code",
   "execution_count": 39,
   "metadata": {},
   "outputs": [],
   "source": [
    "#Set of lambdas to cross-validate over\n",
    "alphas = np.logspace(-6, 6, 50)"
   ]
  },
  {
   "cell_type": "code",
   "execution_count": 173,
   "metadata": {},
   "outputs": [],
   "source": [
    "coef = []\n",
    "\n",
    "for item in np.logspace(-6, 6, 50):\n",
    "    logMod_Reg_loop = LogisticRegression(penalty = 'l1', solver = 'liblinear', max_iter=100, C = item)\n",
    "    logMod_Reg_loop.fit(X_train, y_train)\n",
    "    coef.append(logMod_Reg_loop.coef_)\n"
   ]
  },
  {
   "cell_type": "code",
   "execution_count": 174,
   "metadata": {},
   "outputs": [],
   "source": [
    "coefs = []\n",
    "for item in coef:\n",
    "    coefs.append(item.flatten())"
   ]
  },
  {
   "cell_type": "code",
   "execution_count": 175,
   "metadata": {},
   "outputs": [
    {
     "data": {
      "text/plain": [
       "(2.5118864315095823e-07,\n",
       " 3981071.7055349695,\n",
       " -4.090612865367646,\n",
       " 15.980742228808921)"
      ]
     },
     "execution_count": 175,
     "metadata": {},
     "output_type": "execute_result"
    },
    {
     "data": {
      "image/png": "[encoded data removed]",
      "text/plain": [
       "<Figure size 1440x432 with 1 Axes>"
      ]
     },
     "metadata": {
      "needs_background": "light"
     },
     "output_type": "display_data"
    }
   ],
   "source": [
    "plt.figure(figsize=(20, 6))\n",
    "\n",
    "plt.subplot(121)\n",
    "ax = plt.gca()\n",
    "ax.plot(alphas, coefs[::-1])\n",
    "ax.set_xscale('log')\n",
    "plt.xlabel('alpha')\n",
    "plt.ylabel('weights')\n",
    "plt.title('Coefficients as a function of L1 regularization')\n",
    "plt.axis('tight')"
   ]
  },
  {
   "cell_type": "code",
   "execution_count": 176,
   "metadata": {},
   "outputs": [
    {
     "name": "stdout",
     "output_type": "stream",
     "text": [
      "(array([161], dtype=int64),)\n",
      "weight_class_Open Weight\n"
     ]
    }
   ],
   "source": [
    "print(np.where(coefs[::-1][0] == max(coefs[::-1][0])))\n",
    "print(X_train.columns[161]) \n"
   ]
  },
  {
   "cell_type": "markdown",
   "metadata": {},
   "source": [
    "Open_Weight class has such a strong impact because in this weight class (35 obs), only Red wins. Actually, due to the 'linear' nature of logistic regression, it might make sense to remove all weight class categories - intuitively, it does not make too much sense to predict a side based on weight class... (maybe something to group by later)"
   ]
  },
  {
   "cell_type": "code",
   "execution_count": 52,
   "metadata": {},
   "outputs": [],
   "source": [
    "weight_cols = ['weight_class_Bantamweight',\n",
    "              'weight_class_Catch Weight', 'weight_class_Featherweight',\n",
    "              'weight_class_Flyweight', 'weight_class_Heavyweight',\n",
    "              'weight_class_Light Heavyweight', 'weight_class_Lightweight',\n",
    "              'weight_class_Middleweight', 'weight_class_Open Weight',\n",
    "              'weight_class_Welterweight', \"weight_class_Women's Bantamweight\",\n",
    "              \"weight_class_Women's Featherweight\", \"weight_class_Women's Flyweight\",\n",
    "              \"weight_class_Women's Strawweight\"]\n",
    "\n",
    "custom_df = combined_scaled.drop(weight_cols, axis = 1)\n",
    "custom_df.drop(['Winner'], axis = 1, inplace = True)"
   ]
  },
  {
   "cell_type": "code",
   "execution_count": 53,
   "metadata": {},
   "outputs": [],
   "source": [
    "X_train, X_testB, y_train, y_testB = train_test_split(custom_df, combined_df.Winner,\n",
    "                                                      test_size = .3, random_state = 125, stratify = combined_df.Winner)"
   ]
  },
  {
   "cell_type": "code",
   "execution_count": 54,
   "metadata": {},
   "outputs": [],
   "source": [
    "X_val, X_test, y_val, y_test = train_test_split(X_testB, y_testB,\n",
    "                                                      test_size = .5, random_state = 125, stratify = y_testB)"
   ]
  },
  {
   "cell_type": "code",
   "execution_count": null,
   "metadata": {},
   "outputs": [],
   "source": []
  },
  {
   "cell_type": "code",
   "execution_count": 527,
   "metadata": {},
   "outputs": [],
   "source": [
    "coef_2 = []\n",
    "\n",
    "for item in np.logspace(-6, 6, 50):\n",
    "    logMod_Reg_loop = LogisticRegression(penalty = 'l1', solver = 'liblinear', max_iter=100, C = item)\n",
    "    logMod_Reg_loop.fit(X_train, y_train)\n",
    "    coef_2.append(logMod_Reg_loop.coef_)\n"
   ]
  },
  {
   "cell_type": "code",
   "execution_count": 528,
   "metadata": {},
   "outputs": [],
   "source": [
    "coefs_2 = []\n",
    "for item in coef_2:\n",
    "    coefs_2.append(item.flatten())"
   ]
  },
  {
   "cell_type": "code",
   "execution_count": 544,
   "metadata": {},
   "outputs": [
    {
     "data": {
      "text/plain": [
       "(2.5118864315095823e-07,\n",
       " 3981071.7055349695,\n",
       " -3.3914450743907523,\n",
       " 2.3432164594465394)"
      ]
     },
     "execution_count": 544,
     "metadata": {},
     "output_type": "execute_result"
    },
    {
     "data": {
      "image/png": "[encoded data removed]",
      "text/plain": [
       "<Figure size 1440x432 with 1 Axes>"
      ]
     },
     "metadata": {
      "needs_background": "light"
     },
     "output_type": "display_data"
    }
   ],
   "source": [
    "plt.figure(figsize=(20, 6))\n",
    "\n",
    "plt.subplot(121)\n",
    "ax = plt.gca()\n",
    "ax.plot(alphas, coefs_2[::-1])\n",
    "ax.set_xscale('log')\n",
    "plt.xlabel('alpha')\n",
    "plt.ylabel('weights')\n",
    "plt.title('Coefficients as a function of L1 regularization')\n",
    "plt.axis('tight')"
   ]
  },
  {
   "cell_type": "code",
   "execution_count": null,
   "metadata": {},
   "outputs": [],
   "source": []
  },
  {
   "cell_type": "code",
   "execution_count": null,
   "metadata": {},
   "outputs": [],
   "source": []
  },
  {
   "cell_type": "code",
   "execution_count": 539,
   "metadata": {},
   "outputs": [],
   "source": [
    "zeroes = []\n",
    "for item in coefs_2:\n",
    "    zeroes.append(len(item[item == 0]))\n"
   ]
  },
  {
   "cell_type": "code",
   "execution_count": 523,
   "metadata": {},
   "outputs": [],
   "source": [
    "param_grid = {\n",
    "    'C': np.logspace(-6, 6, 50)\n",
    "}"
   ]
  },
  {
   "cell_type": "code",
   "execution_count": 520,
   "metadata": {},
   "outputs": [
    {
     "name": "stdout",
     "output_type": "stream",
     "text": [
      "Fitting 5 folds for each of 50 candidates, totalling 250 fits\n"
     ]
    },
    {
     "name": "stderr",
     "output_type": "stream",
     "text": [
      "[Parallel(n_jobs=1)]: Using backend SequentialBackend with 1 concurrent workers.\n",
      "[Parallel(n_jobs=1)]: Done 250 out of 250 | elapsed: 16.9min finished\n"
     ]
    },
    {
     "data": {
      "text/plain": [
       "GridSearchCV(cv=None, error_score=nan,\n",
       "             estimator=LogisticRegression(C=1.0, class_weight=None, dual=False,\n",
       "                                          fit_intercept=True,\n",
       "                                          intercept_scaling=1, l1_ratio=None,\n",
       "                                          max_iter=100, multi_class='auto',\n",
       "                                          n_jobs=None, penalty='l1',\n",
       "                                          random_state=None, solver='liblinear',\n",
       "                                          tol=0.0001, verbose=0,\n",
       "                                          warm_start=False),\n",
       "             iid='deprecated', n_jobs=None,\n",
       "             param_grid={'C': array([1.00000000e...\n",
       "       6.86648845e+01, 1.20679264e+02, 2.12095089e+02, 3.72759372e+02,\n",
       "       6.55128557e+02, 1.15139540e+03, 2.02358965e+03, 3.55648031e+03,\n",
       "       6.25055193e+03, 1.09854114e+04, 1.93069773e+04, 3.39322177e+04,\n",
       "       5.96362332e+04, 1.04811313e+05, 1.84206997e+05, 3.23745754e+05,\n",
       "       5.68986603e+05, 1.00000000e+06])},\n",
       "             pre_dispatch='2*n_jobs', refit=True, return_train_score=False,\n",
       "             scoring=None, verbose=True)"
      ]
     },
     "execution_count": 520,
     "metadata": {},
     "output_type": "execute_result"
    }
   ],
   "source": [
    "#L1 model for feature selection:\n",
    "logMod_Reg = LogisticRegression(penalty = 'l1', solver = 'liblinear', max_iter=100)\n",
    "\n",
    "logMod_CV = GridSearchCV(logMod_Reg, param_grid, verbose=True)\n",
    "logMod_CV.fit(X_train, y_train)"
   ]
  },
  {
   "cell_type": "code",
   "execution_count": 540,
   "metadata": {},
   "outputs": [
    {
     "data": {
      "text/plain": [
       "73"
      ]
     },
     "execution_count": 540,
     "metadata": {},
     "output_type": "execute_result"
    }
   ],
   "source": [
    "#Cross Validation picks model with regularization that uses only 30 feature variables\n",
    "index = np.where(alphas == logMod_CV.best_estimator_.C)\n",
    "coefs_2[index[0][0]]\n",
    "zeroes[index[0][0]]\n",
    "len(custom_df.columns)-1-zeroes[index[0][0]]"
   ]
  },
  {
   "cell_type": "code",
   "execution_count": 538,
   "metadata": {},
   "outputs": [
    {
     "data": {
      "text/plain": [
       "array([ 0.00000000e+00,  0.00000000e+00, -4.22583226e-02, -1.12411329e-01,\n",
       "        0.00000000e+00,  0.00000000e+00,  8.10001354e-02,  5.51048277e-02,\n",
       "        0.00000000e+00, -8.83071497e-04,  0.00000000e+00, -1.04194484e-01,\n",
       "        3.70045992e-02,  1.41701613e-02,  0.00000000e+00,  0.00000000e+00,\n",
       "        0.00000000e+00,  0.00000000e+00,  0.00000000e+00, -7.62010471e-02,\n",
       "        1.77346598e-02,  0.00000000e+00, -5.38513418e-02,  0.00000000e+00,\n",
       "        0.00000000e+00,  0.00000000e+00,  0.00000000e+00,  1.96913126e-02,\n",
       "        0.00000000e+00,  0.00000000e+00,  5.66047185e-02,  2.13351887e-02,\n",
       "       -5.74055883e-03,  0.00000000e+00,  1.03889643e-02,  2.76792989e-02,\n",
       "        0.00000000e+00,  0.00000000e+00, -3.32118410e-02, -6.49675128e-02,\n",
       "        0.00000000e+00, -7.67883776e-02, -4.36825903e-02,  0.00000000e+00,\n",
       "       -2.42458400e-02,  9.34903959e-03,  4.68618604e-03,  0.00000000e+00,\n",
       "        0.00000000e+00,  0.00000000e+00,  0.00000000e+00,  1.14489286e-01,\n",
       "        0.00000000e+00,  1.30994120e-01,  0.00000000e+00,  0.00000000e+00,\n",
       "        0.00000000e+00,  1.25712006e-01,  0.00000000e+00,  0.00000000e+00,\n",
       "        0.00000000e+00,  0.00000000e+00, -6.70450045e-02,  0.00000000e+00,\n",
       "        0.00000000e+00,  1.27812310e-02,  1.20477677e-03,  0.00000000e+00,\n",
       "       -2.62632893e-02,  0.00000000e+00, -2.63478232e-02,  0.00000000e+00,\n",
       "        1.67342701e-02, -2.78964555e-01,  0.00000000e+00,  4.89101859e-02,\n",
       "       -8.64741022e-03,  0.00000000e+00,  0.00000000e+00,  0.00000000e+00,\n",
       "        5.00349667e-02,  0.00000000e+00,  0.00000000e+00, -8.21127766e-02,\n",
       "        0.00000000e+00,  0.00000000e+00,  0.00000000e+00,  8.09350544e-02,\n",
       "        2.00922079e-01, -6.14219232e-02,  9.02900136e-02, -1.96585762e-02,\n",
       "        0.00000000e+00,  0.00000000e+00,  0.00000000e+00,  0.00000000e+00,\n",
       "        2.62835385e-01,  0.00000000e+00,  4.76771635e-03,  1.69042437e-02,\n",
       "        0.00000000e+00, -7.74623853e-02,  0.00000000e+00,  0.00000000e+00,\n",
       "       -4.69313343e-02,  0.00000000e+00,  0.00000000e+00,  1.20987044e-02,\n",
       "        0.00000000e+00, -8.16853576e-02, -2.52651355e-02, -6.34933005e-02,\n",
       "        0.00000000e+00,  0.00000000e+00, -2.33396887e-02,  0.00000000e+00,\n",
       "        1.88293268e-02,  4.15658275e-03,  0.00000000e+00,  3.33739517e-02,\n",
       "        0.00000000e+00, -9.66464089e-03, -1.12606880e-01,  0.00000000e+00,\n",
       "        0.00000000e+00,  0.00000000e+00,  0.00000000e+00,  0.00000000e+00,\n",
       "       -2.04573968e-02, -1.06338626e-02,  0.00000000e+00,  0.00000000e+00,\n",
       "        0.00000000e+00,  0.00000000e+00,  0.00000000e+00, -2.59409880e-01,\n",
       "        0.00000000e+00,  1.75277010e-01, -8.63242301e-02, -6.77928452e-02,\n",
       "        0.00000000e+00,  5.90565033e-02,  0.00000000e+00, -2.46433608e-04,\n",
       "       -2.12050939e-02,  0.00000000e+00, -9.59948471e-02, -2.82682406e-02,\n",
       "       -1.29784231e-02,  0.00000000e+00,  1.16657553e-01,  0.00000000e+00,\n",
       "        1.45318836e-01,  0.00000000e+00,  1.11124842e-01,  0.00000000e+00,\n",
       "        0.00000000e+00,  0.00000000e+00,  0.00000000e+00,  0.00000000e+00,\n",
       "        1.36337844e-01,  0.00000000e+00])"
      ]
     },
     "execution_count": 538,
     "metadata": {},
     "output_type": "execute_result"
    }
   ],
   "source": []
  },
  {
   "cell_type": "code",
   "execution_count": 541,
   "metadata": {},
   "outputs": [
    {
     "data": {
      "text/plain": [
       "(array([  2,   3,   6,   7,   9,  11,  12,  13,  19,  20,  22,  27,  30,\n",
       "         31,  32,  34,  35,  38,  39,  41,  42,  44,  45,  46,  51,  53,\n",
       "         57,  62,  65,  66,  68,  70,  72,  73,  75,  76,  80,  83,  87,\n",
       "         88,  89,  90,  91,  96,  98,  99, 101, 104, 107, 109, 110, 111,\n",
       "        114, 116, 117, 119, 121, 122, 128, 129, 135, 137, 138, 139, 141,\n",
       "        143, 144, 146, 147, 148, 150, 152, 154, 160], dtype=int64),)"
      ]
     },
     "execution_count": 541,
     "metadata": {},
     "output_type": "execute_result"
    }
   ],
   "source": [
    "features = np.where(coefs_2[index[0][0]] != 0)\n",
    "features"
   ]
  },
  {
   "cell_type": "code",
   "execution_count": 543,
   "metadata": {},
   "outputs": [
    {
     "data": {
      "text/plain": [
       "['B_avg_SIG_STR_pct',\n",
       " 'no_of_rounds',\n",
       " 'R_total_title_bouts',\n",
       " 'R_Weight_lbs',\n",
       " 'B_avg_TD_landed',\n",
       " 'B_avg_opp_TD_att',\n",
       " 'R_win_by_Submission',\n",
       " 'B_total_time_fought(seconds)',\n",
       " 'B_avg_HEAD_landed',\n",
       " 'B_avg_KD',\n",
       " 'R_avg_REV',\n",
       " 'B_avg_opp_SIG_STR_pct',\n",
       " 'B_win_by_Decision_Split',\n",
       " 'R_avg_LEG_att',\n",
       " 'R_avg_CLINCH_pct',\n",
       " 'B_win_by_TKO_Doctor_Stoppage',\n",
       " 'R_avg_TOTAL_STR_pct',\n",
       " 'R_avg_opp_PASS',\n",
       " 'R_avg_BODY_att',\n",
       " 'B_avg_DISTANCE_pct',\n",
       " 'R_avg_opp_REV',\n",
       " 'B_avg_HEAD_pct',\n",
       " 'R_Height_cms',\n",
       " 'R_draw',\n",
       " 'B_avg_opp_TD_pct',\n",
       " 'R_current_win_streak',\n",
       " 'R_avg_TD_pct',\n",
       " 'R_avg_GROUND_pct',\n",
       " 'B_avg_opp_REV',\n",
       " 'R_avg_PASS',\n",
       " 'R_avg_opp_TOTAL_STR_att',\n",
       " 'B_losses',\n",
       " 'R_avg_opp_SUB_ATT',\n",
       " 'R_age',\n",
       " 'B_avg_TD_pct',\n",
       " 'B_avg_opp_PASS',\n",
       " 'R_avg_BODY_pct',\n",
       " 'B_current_win_streak',\n",
       " 'R_avg_SIG_STR_pct',\n",
       " 'R_total_time_fought(seconds)',\n",
       " 'B_avg_LEG_pct',\n",
       " 'B_avg_opp_HEAD_landed',\n",
       " 'B_avg_GROUND_landed',\n",
       " 'B_avg_TOTAL_STR_pct',\n",
       " 'R_avg_GROUND_att',\n",
       " 'Reach_diff',\n",
       " 'B_Reach_cms',\n",
       " 'B_avg_BODY_landed',\n",
       " 'R_avg_HEAD_pct',\n",
       " 'R_avg_opp_GROUND_landed',\n",
       " 'R_current_lose_streak',\n",
       " 'R_win_by_Decision_Split',\n",
       " 'B_win_by_Submission',\n",
       " 'B_avg_opp_SUB_ATT',\n",
       " 'B_avg_REV',\n",
       " 'B_avg_opp_CLINCH_att',\n",
       " 'B_avg_PASS',\n",
       " 'R_avg_opp_HEAD_landed',\n",
       " 'R_avg_opp_DISTANCE_att',\n",
       " 'B_avg_SIG_STR_att',\n",
       " 'B_avg_TD_att',\n",
       " 'B_age',\n",
       " 'R_avg_TOTAL_STR_att',\n",
       " 'R_losses',\n",
       " 'B_avg_opp_KD',\n",
       " 'R_avg_opp_TD_pct',\n",
       " 'R_avg_LEG_pct',\n",
       " 'R_avg_opp_SIG_STR_pct',\n",
       " 'B_avg_BODY_att',\n",
       " 'B_win_by_Decision_Unanimous',\n",
       " 'B_total_title_bouts',\n",
       " 'title_bout',\n",
       " 'B_Stance_Orthodox',\n",
       " 'R_Stance_Southpaw']"
      ]
     },
     "execution_count": 543,
     "metadata": {},
     "output_type": "execute_result"
    }
   ],
   "source": [
    "top_log_features = [item for item in X_train.columns[features]]\n",
    "top_log_features"
   ]
  },
  {
   "cell_type": "code",
   "execution_count": 204,
   "metadata": {},
   "outputs": [
    {
     "name": "stdout",
     "output_type": "stream",
     "text": [
      "Accuracy (30% Test): 0.7039\n",
      "AUC Score (30% Test): 0.6684\n"
     ]
    },
    {
     "data": {
      "image/png": "[encoded data removed]",
      "text/plain": [
       "<Figure size 432x288 with 2 Axes>"
      ]
     },
     "metadata": {
      "needs_background": "light"
     },
     "output_type": "display_data"
    }
   ],
   "source": [
    "y_predictions = logMod_CV.predict(X_testB)\n",
    "cm_log = confusion_matrix(y_testB, y_predictions)\n",
    "sns.heatmap(cm_log, annot = True, fmt = 'd', cmap = 'Blues')\n",
    "\n",
    "print(f\"Accuracy (30% Test): {accuracy_score(y_testB, y_predictions):.4f}\")\n",
    "print(f\"AUC Score (30% Test): {roc_auc_score(y_testB, logMod_CV.predict_proba(X_testB)[:,1]):.4f}\")"
   ]
  },
  {
   "cell_type": "markdown",
   "metadata": {},
   "source": [
    "### Imbalance Correction: Over-Sampling"
   ]
  },
  {
   "cell_type": "markdown",
   "metadata": {},
   "source": [
    "Due to the imbalance of the dataset, this is a decent accuracy, but the model will unfortunatley predict red winner\n",
    "an inordinate number of times... To settle this, we will use over-sampling"
   ]
  },
  {
   "cell_type": "code",
   "execution_count": 59,
   "metadata": {},
   "outputs": [],
   "source": [
    "from imblearn.over_sampling import RandomOverSampler, ADASYN\n",
    "ros = RandomOverSampler(random_state=0)\n",
    "ada = ADASYN(random_state = 0)"
   ]
  },
  {
   "cell_type": "code",
   "execution_count": 241,
   "metadata": {},
   "outputs": [],
   "source": [
    "X_train, X_testB, y_train, y_testB = train_test_split(custom_df, combined_df.Winner,\n",
    "                                                      test_size = .3, random_state = 125, stratify = combined_df.Winner)"
   ]
  },
  {
   "cell_type": "code",
   "execution_count": 242,
   "metadata": {},
   "outputs": [],
   "source": [
    "#Resample on the training data only!\n",
    "X_resampled, y_resampled = ros.fit_resample(X_train, y_train)\n"
   ]
  },
  {
   "cell_type": "code",
   "execution_count": 243,
   "metadata": {},
   "outputs": [],
   "source": [
    "X_val, X_test, y_val, y_test = train_test_split(X_testB, y_testB,\n",
    "                                                      test_size = .5, random_state = 125, stratify = y_testB)"
   ]
  },
  {
   "cell_type": "code",
   "execution_count": null,
   "metadata": {},
   "outputs": [],
   "source": []
  },
  {
   "cell_type": "code",
   "execution_count": 209,
   "metadata": {},
   "outputs": [],
   "source": [
    "param_grid = {\n",
    "    'C': np.logspace(-6, 6, 50)\n",
    "}"
   ]
  },
  {
   "cell_type": "code",
   "execution_count": 210,
   "metadata": {},
   "outputs": [
    {
     "name": "stdout",
     "output_type": "stream",
     "text": [
      "Fitting 5 folds for each of 50 candidates, totalling 250 fits\n"
     ]
    },
    {
     "name": "stderr",
     "output_type": "stream",
     "text": [
      "[Parallel(n_jobs=1)]: Using backend SequentialBackend with 1 concurrent workers.\n",
      "[Parallel(n_jobs=1)]: Done 250 out of 250 | elapsed: 20.3min finished\n"
     ]
    },
    {
     "data": {
      "text/plain": [
       "GridSearchCV(cv=None, error_score=nan,\n",
       "             estimator=LogisticRegression(C=1.0, class_weight=None, dual=False,\n",
       "                                          fit_intercept=True,\n",
       "                                          intercept_scaling=1, l1_ratio=None,\n",
       "                                          max_iter=100, multi_class='auto',\n",
       "                                          n_jobs=None, penalty='l1',\n",
       "                                          random_state=None, solver='liblinear',\n",
       "                                          tol=0.0001, verbose=0,\n",
       "                                          warm_start=False),\n",
       "             iid='deprecated', n_jobs=None,\n",
       "             param_grid={'C': array([1.00000000e...\n",
       "       6.86648845e+01, 1.20679264e+02, 2.12095089e+02, 3.72759372e+02,\n",
       "       6.55128557e+02, 1.15139540e+03, 2.02358965e+03, 3.55648031e+03,\n",
       "       6.25055193e+03, 1.09854114e+04, 1.93069773e+04, 3.39322177e+04,\n",
       "       5.96362332e+04, 1.04811313e+05, 1.84206997e+05, 3.23745754e+05,\n",
       "       5.68986603e+05, 1.00000000e+06])},\n",
       "             pre_dispatch='2*n_jobs', refit=True, return_train_score=False,\n",
       "             scoring=None, verbose=True)"
      ]
     },
     "execution_count": 210,
     "metadata": {},
     "output_type": "execute_result"
    }
   ],
   "source": [
    "#Regularized model on oversampled data:\n",
    "logMod_Reg = LogisticRegression(penalty = 'l1', solver = 'liblinear', max_iter=100)\n",
    "\n",
    "logMod_CV_Over = GridSearchCV(logMod_Reg, param_grid, verbose=True)\n",
    "logMod_CV_Over.fit(X_resampled, y_resampled)"
   ]
  },
  {
   "cell_type": "code",
   "execution_count": 211,
   "metadata": {},
   "outputs": [
    {
     "name": "stdout",
     "output_type": "stream",
     "text": [
      "Accuracy (30% Test): 0.6392\n",
      "AUC Score (30% Test): 0.6684\n"
     ]
    },
    {
     "data": {
      "image/png": "[encoded data removed]",
      "text/plain": [
       "<Figure size 432x288 with 2 Axes>"
      ]
     },
     "metadata": {
      "needs_background": "light"
     },
     "output_type": "display_data"
    }
   ],
   "source": [
    "y_predictions = logMod_CV_Over.predict(X_testB)\n",
    "cm_log = confusion_matrix(y_testB, y_predictions)\n",
    "sns.heatmap(cm_log, annot = True, fmt = 'd', cmap = 'Blues')\n",
    "\n",
    "print(f\"Accuracy (30% Test): {accuracy_score(y_testB, y_predictions):.4f}\")\n",
    "print(f\"AUC Score (30% Test): {roc_auc_score(y_testB, logMod_CV.predict_proba(X_testB)[:,1]):.4f}\")"
   ]
  },
  {
   "cell_type": "code",
   "execution_count": 212,
   "metadata": {},
   "outputs": [
    {
     "data": {
      "text/plain": [
       "LogisticRegression(C=1.0, class_weight=None, dual=False, fit_intercept=True,\n",
       "                   intercept_scaling=1, l1_ratio=None, max_iter=1000,\n",
       "                   multi_class='auto', n_jobs=None, penalty='l2',\n",
       "                   random_state=None, solver='lbfgs', tol=0.0001, verbose=0,\n",
       "                   warm_start=False)"
      ]
     },
     "execution_count": 212,
     "metadata": {},
     "output_type": "execute_result"
    }
   ],
   "source": [
    "#L2 Model on oversampled data:\n",
    "logMod_Reg_Over = LogisticRegression(max_iter=1000)\n",
    "logMod_Reg_Over.fit(X_resampled, y_resampled)"
   ]
  },
  {
   "cell_type": "code",
   "execution_count": 214,
   "metadata": {},
   "outputs": [
    {
     "name": "stdout",
     "output_type": "stream",
     "text": [
      "Accuracy (30% Test): 0.6436\n",
      "AUC Score (30% Test): 0.7071\n"
     ]
    },
    {
     "data": {
      "image/png": "[encoded data removed]",
      "text/plain": [
       "<Figure size 432x288 with 2 Axes>"
      ]
     },
     "metadata": {
      "needs_background": "light"
     },
     "output_type": "display_data"
    }
   ],
   "source": [
    "y_predictions = logMod_Reg_Over.predict(X_testB)\n",
    "cm_log = confusion_matrix(y_testB, y_predictions)\n",
    "sns.heatmap(cm_log, annot = True, fmt = 'd', cmap = 'Blues')\n",
    "\n",
    "print(f\"Accuracy (30% Test): {accuracy_score(y_testB, y_predictions):.4f}\")\n",
    "print(f\"AUC Score (30% Test): {roc_auc_score(y_testB, logMod_Reg_Over.predict_proba(X_testB)[:,1]):.4f}\")"
   ]
  },
  {
   "cell_type": "code",
   "execution_count": 217,
   "metadata": {},
   "outputs": [],
   "source": [
    "#Rerun base model without including weight class"
   ]
  },
  {
   "cell_type": "code",
   "execution_count": 282,
   "metadata": {},
   "outputs": [
    {
     "data": {
      "text/plain": [
       "LogisticRegression(C=1.0, class_weight=None, dual=False, fit_intercept=True,\n",
       "                   intercept_scaling=1, l1_ratio=None, max_iter=1000,\n",
       "                   multi_class='auto', n_jobs=None, penalty='l2',\n",
       "                   random_state=None, solver='lbfgs', tol=0.0001, verbose=0,\n",
       "                   warm_start=False)"
      ]
     },
     "execution_count": 282,
     "metadata": {},
     "output_type": "execute_result"
    }
   ],
   "source": [
    "logMod = LogisticRegression(max_iter=1000)\n",
    "logMod.fit(X_train, y_train)"
   ]
  },
  {
   "cell_type": "code",
   "execution_count": 283,
   "metadata": {
    "scrolled": true
   },
   "outputs": [
    {
     "name": "stdout",
     "output_type": "stream",
     "text": [
      "Accuracy (30% Test): 0.7012\n",
      "AUC Score (30% Test): 0.7143\n"
     ]
    },
    {
     "data": {
      "image/png": "[encoded data removed]",
      "text/plain": [
       "<Figure size 432x288 with 2 Axes>"
      ]
     },
     "metadata": {
      "needs_background": "light"
     },
     "output_type": "display_data"
    }
   ],
   "source": [
    "y_predictions = logMod.predict(X_testB)\n",
    "cm_log = confusion_matrix(y_testB, y_predictions)\n",
    "sns.heatmap(cm_log, annot = True, fmt = 'd', cmap = 'Blues')\n",
    "\n",
    "print(f\"Accuracy (30% Test): {accuracy_score(y_testB, y_predictions):.4f}\")\n",
    "print(f\"AUC Score (30% Test): {roc_auc_score(y_testB, logMod.predict_proba(X_testB)[:,1]):.4f}\")"
   ]
  },
  {
   "cell_type": "markdown",
   "metadata": {},
   "source": [
    "A more sophisticated resampling method"
   ]
  },
  {
   "cell_type": "code",
   "execution_count": 60,
   "metadata": {},
   "outputs": [],
   "source": [
    "#Resample on the training data only!\n",
    "X_resampled_ada, y_resampled_ada = ada.fit_resample(X_train, y_train)\n"
   ]
  },
  {
   "cell_type": "code",
   "execution_count": 61,
   "metadata": {},
   "outputs": [
    {
     "data": {
      "text/plain": [
       "LogisticRegression(C=1.0, class_weight=None, dual=False, fit_intercept=True,\n",
       "                   intercept_scaling=1, l1_ratio=None, max_iter=1000,\n",
       "                   multi_class='auto', n_jobs=None, penalty='l2',\n",
       "                   random_state=None, solver='lbfgs', tol=0.0001, verbose=0,\n",
       "                   warm_start=False)"
      ]
     },
     "execution_count": 61,
     "metadata": {},
     "output_type": "execute_result"
    }
   ],
   "source": [
    "#L2 Model on oversampled data:\n",
    "logMod_Reg_ada = LogisticRegression(max_iter=1000)\n",
    "logMod_Reg_ada.fit(X_resampled, y_resampled)"
   ]
  },
  {
   "cell_type": "code",
   "execution_count": 62,
   "metadata": {},
   "outputs": [
    {
     "name": "stdout",
     "output_type": "stream",
     "text": [
      "Accuracy (30% Test): 0.6445\n",
      "AUC Score (30% Test): 0.7070\n"
     ]
    },
    {
     "data": {
      "image/png": "[encoded data removed]",
      "text/plain": [
       "<Figure size 432x288 with 2 Axes>"
      ]
     },
     "metadata": {
      "needs_background": "light"
     },
     "output_type": "display_data"
    }
   ],
   "source": [
    "y_predictions = logMod_Reg_ada.predict(X_testB)\n",
    "cm_log = confusion_matrix(y_testB, y_predictions)\n",
    "sns.heatmap(cm_log, annot = True, fmt = 'd', cmap = 'Blues')\n",
    "\n",
    "print(f\"Accuracy (30% Test): {accuracy_score(y_testB, y_predictions):.4f}\")\n",
    "print(f\"AUC Score (30% Test): {roc_auc_score(y_testB, logMod_Reg_ada.predict_proba(X_testB)[:,1]):.4f}\")"
   ]
  },
  {
   "cell_type": "code",
   "execution_count": null,
   "metadata": {},
   "outputs": [],
   "source": []
  },
  {
   "cell_type": "code",
   "execution_count": null,
   "metadata": {},
   "outputs": [],
   "source": []
  },
  {
   "cell_type": "code",
   "execution_count": null,
   "metadata": {},
   "outputs": [],
   "source": []
  },
  {
   "cell_type": "markdown",
   "metadata": {},
   "source": [
    "# Random Forest"
   ]
  },
  {
   "cell_type": "code",
   "execution_count": 80,
   "metadata": {},
   "outputs": [],
   "source": [
    "from sklearn.ensemble import RandomForestClassifier"
   ]
  },
  {
   "cell_type": "code",
   "execution_count": 81,
   "metadata": {},
   "outputs": [],
   "source": [
    "X_train, X_test, y_train, y_test = train_test_split(df_scaled, combined_df.Winner,\n",
    "                                                      test_size = .3, random_state = 125, stratify = combined_df.Winner)"
   ]
  },
  {
   "cell_type": "code",
   "execution_count": 82,
   "metadata": {},
   "outputs": [],
   "source": [
    "param_grid = {\n",
    "    'max_features': np.arange(50, 170, 10)\n",
    "}"
   ]
  },
  {
   "cell_type": "code",
   "execution_count": 84,
   "metadata": {},
   "outputs": [],
   "source": [
    "rfMod = RandomForestClassifier()\n",
    "gridRF = GridSearchCV(rfMod, param_grid, verbose = True, scoring = 'roc_auc')"
   ]
  },
  {
   "cell_type": "code",
   "execution_count": 85,
   "metadata": {},
   "outputs": [
    {
     "name": "stdout",
     "output_type": "stream",
     "text": [
      "Fitting 5 folds for each of 12 candidates, totalling 60 fits\n"
     ]
    },
    {
     "name": "stderr",
     "output_type": "stream",
     "text": [
      "[Parallel(n_jobs=1)]: Using backend SequentialBackend with 1 concurrent workers.\n",
      "[Parallel(n_jobs=1)]: Done  60 out of  60 | elapsed:  8.4min finished\n"
     ]
    },
    {
     "data": {
      "text/plain": [
       "GridSearchCV(cv=None, error_score=nan,\n",
       "             estimator=RandomForestClassifier(bootstrap=True, ccp_alpha=0.0,\n",
       "                                              class_weight=None,\n",
       "                                              criterion='gini', max_depth=None,\n",
       "                                              max_features='auto',\n",
       "                                              max_leaf_nodes=None,\n",
       "                                              max_samples=None,\n",
       "                                              min_impurity_decrease=0.0,\n",
       "                                              min_impurity_split=None,\n",
       "                                              min_samples_leaf=1,\n",
       "                                              min_samples_split=2,\n",
       "                                              min_weight_fraction_leaf=0.0,\n",
       "                                              n_estimators=100, n_jobs=None,\n",
       "                                              oob_score=False,\n",
       "                                              random_state=None, verbose=0,\n",
       "                                              warm_start=False),\n",
       "             iid='deprecated', n_jobs=None,\n",
       "             param_grid={'max_features': array([ 50,  60,  70,  80,  90, 100, 110, 120, 130, 140, 150, 160])},\n",
       "             pre_dispatch='2*n_jobs', refit=True, return_train_score=False,\n",
       "             scoring='roc_auc', verbose=True)"
      ]
     },
     "execution_count": 85,
     "metadata": {},
     "output_type": "execute_result"
    }
   ],
   "source": [
    "gridRF.fit(X_train, y_train)"
   ]
  },
  {
   "cell_type": "code",
   "execution_count": 86,
   "metadata": {},
   "outputs": [
    {
     "data": {
      "text/plain": [
       "RandomForestClassifier(bootstrap=True, ccp_alpha=0.0, class_weight=None,\n",
       "                       criterion='gini', max_depth=None, max_features=50,\n",
       "                       max_leaf_nodes=None, max_samples=None,\n",
       "                       min_impurity_decrease=0.0, min_impurity_split=None,\n",
       "                       min_samples_leaf=1, min_samples_split=2,\n",
       "                       min_weight_fraction_leaf=0.0, n_estimators=100,\n",
       "                       n_jobs=None, oob_score=False, random_state=None,\n",
       "                       verbose=0, warm_start=False)"
      ]
     },
     "execution_count": 86,
     "metadata": {},
     "output_type": "execute_result"
    }
   ],
   "source": [
    "gridRF.best_estimator_"
   ]
  },
  {
   "cell_type": "code",
   "execution_count": 87,
   "metadata": {},
   "outputs": [
    {
     "name": "stdout",
     "output_type": "stream",
     "text": [
      "Accuracy (30% Test): 0.6950\n",
      "AUC Score (30% Test): 0.6803\n"
     ]
    },
    {
     "data": {
      "image/png": "[encoded data removed]",
      "text/plain": [
       "<Figure size 432x288 with 2 Axes>"
      ]
     },
     "metadata": {
      "needs_background": "light"
     },
     "output_type": "display_data"
    }
   ],
   "source": [
    "y_predictions = gridRF.predict(X_test)\n",
    "cm_log = confusion_matrix(y_test, y_predictions)\n",
    "sns.heatmap(cm_log, annot = True, fmt = 'd', cmap = 'Blues')\n",
    "\n",
    "print(f\"Accuracy (30% Test): {accuracy_score(y_testB, y_predictions):.4f}\")\n",
    "print(f\"AUC Score (30% Test): {roc_auc_score(y_testB, gridRF.predict_proba(X_test)[:,1]):.4f}\")"
   ]
  },
  {
   "cell_type": "code",
   "execution_count": 88,
   "metadata": {},
   "outputs": [],
   "source": [
    "feat_imps = {}\n",
    "for i, imp in enumerate(gridRF.best_estimator_.feature_importances_):\n",
    "    feat_imps[X_train.columns[i]] = imp"
   ]
  },
  {
   "cell_type": "code",
   "execution_count": 89,
   "metadata": {},
   "outputs": [
    {
     "data": {
      "text/plain": [
       "[('R_avg_opp_SIG_STR_landed', 0.020597684641881657),\n",
       " ('R_total_time_fought(seconds)', 0.017949119458770008),\n",
       " ('R_age', 0.01729291316045017),\n",
       " ('R_avg_opp_HEAD_landed', 0.015890793577420202),\n",
       " ('B_age', 0.013752436684052538),\n",
       " ('R_avg_opp_SIG_STR_pct', 0.013104055442081874),\n",
       " ('B_avg_SIG_STR_landed', 0.011504127999781979),\n",
       " ('B_avg_opp_SIG_STR_pct', 0.010689807854831219),\n",
       " ('R_avg_opp_DISTANCE_landed', 0.010688674139731775),\n",
       " ('B_avg_TD_att', 0.010553538499070642),\n",
       " ('R_avg_TD_pct', 0.010305970098367619),\n",
       " ('B_total_time_fought(seconds)', 0.009937635705999748),\n",
       " ('R_avg_opp_TOTAL_STR_landed', 0.009932195530231242),\n",
       " ('B_avg_SIG_STR_att', 0.009867294474119643),\n",
       " ('R_avg_TOTAL_STR_landed', 0.009654851761958804),\n",
       " ('B_avg_TOTAL_STR_pct', 0.009651313927504322),\n",
       " ('B_avg_HEAD_landed', 0.009511921932168906),\n",
       " ('R_avg_BODY_pct', 0.009411361768982109),\n",
       " ('R_avg_CLINCH_pct', 0.009280905723702564),\n",
       " ('B_avg_opp_TD_pct', 0.00916594344707332),\n",
       " ('R_avg_opp_PASS', 0.009127330310995286),\n",
       " ('R_avg_DISTANCE_pct', 0.009091086301403912),\n",
       " ('R_avg_HEAD_pct', 0.009057417134375096),\n",
       " ('R_avg_SIG_STR_pct', 0.008964746017463637),\n",
       " ('R_avg_opp_GROUND_landed', 0.008944288612071485),\n",
       " ('R_avg_opp_BODY_att', 0.0087046139365622),\n",
       " ('R_avg_TOTAL_STR_pct', 0.00865614097694895),\n",
       " ('R_avg_opp_KD', 0.008655575861482759),\n",
       " ('R_avg_TOTAL_STR_att', 0.008599928635144572),\n",
       " ('B_avg_DISTANCE_pct', 0.00857939809499056),\n",
       " ('R_avg_opp_TD_pct', 0.008373330883567807),\n",
       " ('B_avg_DISTANCE_landed', 0.008350530763787618),\n",
       " ('B_avg_BODY_pct', 0.008340402403204888),\n",
       " ('B_avg_opp_TOTAL_STR_landed', 0.008295626098128936),\n",
       " ('B_avg_BODY_att', 0.008060308697003821),\n",
       " ('R_avg_GROUND_pct', 0.00798675482251559),\n",
       " ('B_avg_BODY_landed', 0.007960150556555873),\n",
       " ('R_avg_GROUND_att', 0.0077915937016775315),\n",
       " ('B_avg_DISTANCE_att', 0.007745105754143767),\n",
       " ('B_avg_HEAD_att', 0.007635726407803185),\n",
       " ('R_avg_HEAD_landed', 0.007581238125003816),\n",
       " ('B_avg_HEAD_pct', 0.007574261703532189),\n",
       " ('R_avg_opp_DISTANCE_att', 0.007515699817570618),\n",
       " ('B_avg_CLINCH_pct', 0.007440414057729882),\n",
       " ('B_avg_LEG_landed', 0.007375697938562908),\n",
       " ('R_avg_LEG_landed', 0.007338951131618327),\n",
       " ('R_avg_TD_att', 0.007325918777609848),\n",
       " ('R_avg_LEG_pct', 0.0073089778794325445),\n",
       " ('R_avg_opp_LEG_att', 0.007285028102305536),\n",
       " ('B_avg_CLINCH_att', 0.007281031291720023),\n",
       " ('R_avg_PASS', 0.007220887330788458),\n",
       " ('B_avg_opp_LEG_landed', 0.007201512441850943),\n",
       " ('B_avg_opp_CLINCH_att', 0.007159738814609465),\n",
       " ('B_avg_TOTAL_STR_landed', 0.007094709248914589),\n",
       " ('R_avg_opp_GROUND_att', 0.007075529795981297),\n",
       " ('R_avg_CLINCH_att', 0.0070579229278968335),\n",
       " ('R_total_rounds_fought', 0.007044445261218637),\n",
       " ('R_avg_opp_TOTAL_STR_att', 0.007042923921212169),\n",
       " ('B_avg_opp_GROUND_landed', 0.007031844315648317),\n",
       " ('R_avg_opp_TD_att', 0.006957314722537345),\n",
       " ('B_avg_opp_TD_att', 0.006898539726149486),\n",
       " ('B_avg_GROUND_att', 0.006880694831776097),\n",
       " ('R_avg_BODY_att', 0.006826520958295021),\n",
       " ('R_avg_BODY_landed', 0.006810551931503499),\n",
       " ('B_avg_opp_GROUND_att', 0.006801140092574682),\n",
       " ('R_avg_GROUND_landed', 0.00679920306040787),\n",
       " ('R_avg_opp_HEAD_att', 0.006782813251540109),\n",
       " ('B_avg_GROUND_pct', 0.006778396589377227),\n",
       " ('R_avg_LEG_att', 0.006738767174143956),\n",
       " ('R_avg_opp_TD_landed', 0.006724425076523009),\n",
       " ('Reach_diff', 0.006716028784421149),\n",
       " ('B_avg_LEG_att', 0.006713433190108021),\n",
       " ('R_avg_opp_CLINCH_att', 0.006634365626844656),\n",
       " ('B_avg_opp_BODY_landed', 0.006589816594708424),\n",
       " ('R_avg_SIG_STR_att', 0.00654822033040805),\n",
       " ('B_avg_opp_HEAD_landed', 0.006542784464317855),\n",
       " ('R_avg_opp_SIG_STR_att', 0.006507653533555699),\n",
       " ('B_avg_SIG_STR_pct', 0.0064860541244295515),\n",
       " ('R_avg_SIG_STR_landed', 0.006485848973355201),\n",
       " ('R_avg_opp_SUB_ATT', 0.006426234079788315),\n",
       " ('B_avg_opp_DISTANCE_att', 0.006426069067134923),\n",
       " ('B_avg_TOTAL_STR_att', 0.006414082412868672),\n",
       " ('R_avg_opp_REV', 0.0063797887661978655),\n",
       " ('B_avg_opp_HEAD_att', 0.006360941415695147),\n",
       " ('R_avg_opp_LEG_landed', 0.006358738379187017),\n",
       " ('R_avg_CLINCH_landed', 0.0063487907979698525),\n",
       " ('B_avg_opp_CLINCH_landed', 0.0063345027104492945),\n",
       " ('B_avg_opp_TOTAL_STR_att', 0.006315282023748099),\n",
       " ('B_avg_opp_LEG_att', 0.0062849229267789245),\n",
       " ('B_avg_GROUND_landed', 0.00625722208563822),\n",
       " ('B_avg_CLINCH_landed', 0.0062360242393206524),\n",
       " ('R_avg_SUB_ATT', 0.006232245290266595),\n",
       " ('R_avg_TD_landed', 0.006231211635447702),\n",
       " ('B_avg_TD_landed', 0.00622216483891851),\n",
       " ('R_avg_opp_CLINCH_landed', 0.006197136556012771),\n",
       " ('B_avg_LEG_pct', 0.006106879569527895),\n",
       " ('R_losses', 0.006077765036922978),\n",
       " ('R_avg_DISTANCE_att', 0.00603376286441858),\n",
       " ('B_avg_opp_BODY_att', 0.006030194742838438),\n",
       " ('B_avg_opp_TD_landed', 0.0060160641309272775),\n",
       " ('B_avg_PASS', 0.005982145983345117),\n",
       " ('B_total_rounds_fought', 0.005670285123755585),\n",
       " ('B_Reach_cms', 0.005517738507035609),\n",
       " ('B_avg_opp_PASS', 0.005511303790757157),\n",
       " ('B_avg_TD_pct', 0.005482968652681068),\n",
       " ('R_avg_opp_BODY_landed', 0.005471167925567565),\n",
       " ('B_avg_opp_DISTANCE_landed', 0.005390314146450949),\n",
       " ('R_avg_HEAD_att', 0.005330473756349773),\n",
       " ('B_avg_opp_SIG_STR_att', 0.0052461425657860964),\n",
       " ('R_avg_KD', 0.004961940593358468),\n",
       " ('R_Reach_cms', 0.004719076870152148),\n",
       " ('B_avg_opp_SIG_STR_landed', 0.004660500127525259),\n",
       " ('R_avg_REV', 0.004655584801459171),\n",
       " ('B_Height_cms', 0.004567590912004757),\n",
       " ('B_avg_SUB_ATT', 0.004543346164709675),\n",
       " ('B_avg_KD', 0.004511611684486631),\n",
       " ('R_wins', 0.0044405310795126674),\n",
       " ('Height_diff', 0.0044348830717631),\n",
       " ('B_avg_opp_SUB_ATT', 0.0044092816148263705),\n",
       " ('R_avg_DISTANCE_landed', 0.004398867534901185),\n",
       " ('B_losses', 0.004388178173969221),\n",
       " ('R_Height_cms', 0.004385434576690085),\n",
       " ('B_avg_REV', 0.004221915214654233),\n",
       " ('Weight_diff', 0.0038730369673730092),\n",
       " ('B_avg_opp_REV', 0.0038215910808010855),\n",
       " ('B_Weight_lbs', 0.0037039209763916887),\n",
       " ('B_wins', 0.003669019697368498),\n",
       " ('B_win_by_Submission', 0.003511886932317434),\n",
       " ('B_avg_opp_KD', 0.0033298187690445646),\n",
       " ('B_current_win_streak', 0.0032128259460422397),\n",
       " ('R_win_by_Submission', 0.0032006322800408504),\n",
       " ('B_current_lose_streak', 0.003148149191215855),\n",
       " ('R_current_win_streak', 0.0029366427772225833),\n",
       " ('R_win_by_KO/TKO', 0.0028408860073129284),\n",
       " ('R_Weight_lbs', 0.0028238981698881804),\n",
       " ('B_longest_win_streak', 0.0028206364250650266),\n",
       " ('R_longest_win_streak', 0.0027456768718921525),\n",
       " ('B_win_by_Decision_Unanimous', 0.0027309561134274667),\n",
       " ('R_win_by_Decision_Unanimous', 0.002559834156745727),\n",
       " ('R_win_by_Decision_Split', 0.002505332974293556),\n",
       " ('B_win_by_KO/TKO', 0.002504838245165185),\n",
       " ('R_current_lose_streak', 0.0022558125454235608),\n",
       " ('no_of_rounds', 0.0017028707918692774),\n",
       " ('B_total_title_bouts', 0.0014502713689767586),\n",
       " ('R_total_title_bouts', 0.0014414686324646904),\n",
       " ('B_win_by_Decision_Split', 0.0012513581570897895),\n",
       " ('weight_class_Featherweight', 0.0009210654994904041),\n",
       " ('weight_class_Welterweight', 0.0009004411455565876),\n",
       " (\"weight_class_Women's Bantamweight\", 0.0008723715289351514),\n",
       " ('R_Stance_Orthodox', 0.0008521354328305758),\n",
       " ('B_Stance_Southpaw', 0.0008250497223816583),\n",
       " ('R_Stance_Southpaw', 0.0007853141409879623),\n",
       " ('weight_class_Bantamweight', 0.0007514941387589493),\n",
       " ('B_Stance_Switch', 0.0006785680681957864),\n",
       " ('R_win_by_TKO_Doctor_Stoppage', 0.0006100911393854276),\n",
       " ('B_Stance_Orthodox', 0.0005908934574475173),\n",
       " ('B_win_by_TKO_Doctor_Stoppage', 0.0005582099049717995),\n",
       " ('weight_class_Lightweight', 0.000503413296482165),\n",
       " ('weight_class_Middleweight', 0.00048254577178192057),\n",
       " ('weight_class_Light Heavyweight', 0.0004766991553953507),\n",
       " ('R_Stance_Switch', 0.0003247933075625231),\n",
       " ('R_win_by_Decision_Majority', 0.00031000338701276645),\n",
       " ('B_win_by_Decision_Majority', 0.0002515934689325545),\n",
       " ('weight_class_Heavyweight', 0.00024187515166416567),\n",
       " ('title_bout', 0.00022258798903101326),\n",
       " (\"weight_class_Women's Strawweight\", 0.000210659709014137),\n",
       " ('R_Stance_Open Stance', 0.0001988734462783737),\n",
       " ('weight_class_Flyweight', 0.00017582972009649373),\n",
       " (\"weight_class_Women's Flyweight\", 8.132361412143222e-05),\n",
       " (\"weight_class_Women's Featherweight\", 4.943513315021238e-05),\n",
       " ('B_Stance_Open Stance', 3.383896181645541e-05),\n",
       " ('weight_class_Catch Weight', 1.631447129575247e-05),\n",
       " ('R_draw', 0.0),\n",
       " ('B_draw', 0.0),\n",
       " ('weight_class_Open Weight', 0.0),\n",
       " ('B_Stance_Sideways', 0.0)]"
      ]
     },
     "execution_count": 89,
     "metadata": {},
     "output_type": "execute_result"
    }
   ],
   "source": [
    "sorted_imp_feats = (sorted(feat_imps.items(), key = lambda x: x[1], reverse=True))\n",
    "sorted_imp_feats"
   ]
  },
  {
   "cell_type": "code",
   "execution_count": 545,
   "metadata": {},
   "outputs": [],
   "source": [
    "rf_df = combined_scaled[top_log_features]"
   ]
  },
  {
   "cell_type": "code",
   "execution_count": 546,
   "metadata": {},
   "outputs": [],
   "source": [
    "X_trainR, X_testR, y_trainR, y_testR = train_test_split(rf_df, combined_scaled.Winner, test_size = .3, random_state = 125)"
   ]
  },
  {
   "cell_type": "code",
   "execution_count": null,
   "metadata": {},
   "outputs": [],
   "source": []
  },
  {
   "cell_type": "code",
   "execution_count": 550,
   "metadata": {},
   "outputs": [],
   "source": [
    "param_grid = {\n",
    "    'max_features': np.arange(1, 73, 2)\n",
    "}\n",
    "\n",
    "gridRF_small = GridSearchCV(rfMod, param_grid, verbose = True, scoring = 'roc_auc')"
   ]
  },
  {
   "cell_type": "code",
   "execution_count": 551,
   "metadata": {},
   "outputs": [
    {
     "name": "stdout",
     "output_type": "stream",
     "text": [
      "Fitting 5 folds for each of 36 candidates, totalling 180 fits\n"
     ]
    },
    {
     "name": "stderr",
     "output_type": "stream",
     "text": [
      "[Parallel(n_jobs=1)]: Using backend SequentialBackend with 1 concurrent workers.\n",
      "[Parallel(n_jobs=1)]: Done 180 out of 180 | elapsed:  8.8min finished\n"
     ]
    },
    {
     "data": {
      "text/plain": [
       "GridSearchCV(cv=None, error_score=nan,\n",
       "             estimator=RandomForestClassifier(bootstrap=True, ccp_alpha=0.0,\n",
       "                                              class_weight=None,\n",
       "                                              criterion='gini', max_depth=None,\n",
       "                                              max_features='auto',\n",
       "                                              max_leaf_nodes=None,\n",
       "                                              max_samples=None,\n",
       "                                              min_impurity_decrease=0.0,\n",
       "                                              min_impurity_split=None,\n",
       "                                              min_samples_leaf=1,\n",
       "                                              min_samples_split=2,\n",
       "                                              min_weight_fraction_leaf=0.0,\n",
       "                                              n_estimators=100, n_jobs=None,\n",
       "                                              oob_score=False,\n",
       "                                              random_state=None, verbose=0,\n",
       "                                              warm_start=False),\n",
       "             iid='deprecated', n_jobs=None,\n",
       "             param_grid={'max_features': array([ 1,  3,  5,  7,  9, 11, 13, 15, 17, 19, 21, 23, 25, 27, 29, 31, 33,\n",
       "       35, 37, 39, 41, 43, 45, 47, 49, 51, 53, 55, 57, 59, 61, 63, 65, 67,\n",
       "       69, 71])},\n",
       "             pre_dispatch='2*n_jobs', refit=True, return_train_score=False,\n",
       "             scoring='roc_auc', verbose=True)"
      ]
     },
     "execution_count": 551,
     "metadata": {},
     "output_type": "execute_result"
    }
   ],
   "source": [
    "gridRF_small.fit(X_trainR, y_trainR)"
   ]
  },
  {
   "cell_type": "code",
   "execution_count": 552,
   "metadata": {},
   "outputs": [
    {
     "data": {
      "text/plain": [
       "RandomForestClassifier(bootstrap=True, ccp_alpha=0.0, class_weight=None,\n",
       "                       criterion='gini', max_depth=None, max_features=47,\n",
       "                       max_leaf_nodes=None, max_samples=None,\n",
       "                       min_impurity_decrease=0.0, min_impurity_split=None,\n",
       "                       min_samples_leaf=1, min_samples_split=2,\n",
       "                       min_weight_fraction_leaf=0.0, n_estimators=100,\n",
       "                       n_jobs=None, oob_score=False, random_state=None,\n",
       "                       verbose=0, warm_start=False)"
      ]
     },
     "execution_count": 552,
     "metadata": {},
     "output_type": "execute_result"
    }
   ],
   "source": [
    "gridRF_small.best_estimator_"
   ]
  },
  {
   "cell_type": "code",
   "execution_count": 553,
   "metadata": {},
   "outputs": [
    {
     "name": "stdout",
     "output_type": "stream",
     "text": [
      "Accuracy (30% Test): 0.6339\n",
      "AUC Score (30% Test): 0.5369\n"
     ]
    },
    {
     "data": {
      "image/png": "[encoded data removed]",
      "text/plain": [
       "<Figure size 432x288 with 2 Axes>"
      ]
     },
     "metadata": {
      "needs_background": "light"
     },
     "output_type": "display_data"
    }
   ],
   "source": [
    "y_predictions = gridRF_small.predict(X_testR)\n",
    "cm_log = confusion_matrix(y_testR, y_predictions)\n",
    "sns.heatmap(cm_log, annot = True, fmt = 'd', cmap = 'Blues')\n",
    "\n",
    "print(f\"Accuracy (30% Test): {accuracy_score(y_testB, y_predictions):.4f}\")\n",
    "print(f\"AUC Score (30% Test): {roc_auc_score(y_testB, gridRF_small.predict_proba(X_testR)[:,1]):.4f}\")"
   ]
  },
  {
   "cell_type": "markdown",
   "metadata": {},
   "source": [
    "### Resampled Random Forest"
   ]
  },
  {
   "cell_type": "code",
   "execution_count": 264,
   "metadata": {},
   "outputs": [],
   "source": [
    "from imblearn.pipeline import Pipeline"
   ]
  },
  {
   "cell_type": "code",
   "execution_count": null,
   "metadata": {},
   "outputs": [],
   "source": []
  },
  {
   "cell_type": "code",
   "execution_count": 265,
   "metadata": {},
   "outputs": [],
   "source": [
    "model = Pipeline([\n",
    "        ('sampling', ADASYN()),\n",
    "        ('classification', RandomForestClassifier())\n",
    "    ])"
   ]
  },
  {
   "cell_type": "code",
   "execution_count": 266,
   "metadata": {},
   "outputs": [],
   "source": [
    "parameters = {\"classification__max_features\": np.arange(50, 170, 10)}\n",
    "\n",
    "rf_resample = GridSearchCV(model, parameters, verbose = True, scoring = 'roc_auc')"
   ]
  },
  {
   "cell_type": "code",
   "execution_count": 267,
   "metadata": {},
   "outputs": [
    {
     "name": "stdout",
     "output_type": "stream",
     "text": [
      "Fitting 5 folds for each of 12 candidates, totalling 60 fits\n"
     ]
    },
    {
     "name": "stderr",
     "output_type": "stream",
     "text": [
      "[Parallel(n_jobs=1)]: Using backend SequentialBackend with 1 concurrent workers.\n",
      "[Parallel(n_jobs=1)]: Done  60 out of  60 | elapsed: 14.1min finished\n"
     ]
    },
    {
     "data": {
      "text/plain": [
       "GridSearchCV(cv=None, error_score=nan,\n",
       "             estimator=Pipeline(memory=None,\n",
       "                                steps=[('sampling',\n",
       "                                        ADASYN(n_jobs=None, n_neighbors=5,\n",
       "                                               random_state=None,\n",
       "                                               sampling_strategy='auto')),\n",
       "                                       ('classification',\n",
       "                                        RandomForestClassifier(bootstrap=True,\n",
       "                                                               ccp_alpha=0.0,\n",
       "                                                               class_weight=None,\n",
       "                                                               criterion='gini',\n",
       "                                                               max_depth=None,\n",
       "                                                               max_features='auto',\n",
       "                                                               max_leaf_nodes=None,\n",
       "                                                               max_samples=None,\n",
       "                                                               min_impu...\n",
       "                                                               min_weight_fraction_leaf=0.0,\n",
       "                                                               n_estimators=100,\n",
       "                                                               n_jobs=None,\n",
       "                                                               oob_score=False,\n",
       "                                                               random_state=None,\n",
       "                                                               verbose=0,\n",
       "                                                               warm_start=False))],\n",
       "                                verbose=False),\n",
       "             iid='deprecated', n_jobs=None,\n",
       "             param_grid={'classification__max_features': array([ 50,  60,  70,  80,  90, 100, 110, 120, 130, 140, 150, 160])},\n",
       "             pre_dispatch='2*n_jobs', refit=True, return_train_score=False,\n",
       "             scoring='roc_auc', verbose=True)"
      ]
     },
     "execution_count": 267,
     "metadata": {},
     "output_type": "execute_result"
    }
   ],
   "source": [
    "rf_resample.fit(X_train, y_train)"
   ]
  },
  {
   "cell_type": "code",
   "execution_count": 269,
   "metadata": {},
   "outputs": [
    {
     "name": "stdout",
     "output_type": "stream",
     "text": [
      "Accuracy (30% Test): 0.6853\n",
      "AUC Score (30% Test): 0.6726\n"
     ]
    },
    {
     "data": {
      "image/png": "[encoded data removed]",
      "text/plain": [
       "<Figure size 432x288 with 2 Axes>"
      ]
     },
     "metadata": {
      "needs_background": "light"
     },
     "output_type": "display_data"
    }
   ],
   "source": [
    "y_predictions = rf_resample.predict(X_testB)\n",
    "cm_log = confusion_matrix(y_testB, y_predictions)\n",
    "sns.heatmap(cm_log, annot = True, fmt = 'd', cmap = 'Blues')\n",
    "\n",
    "print(f\"Accuracy (30% Test): {accuracy_score(y_testB, y_predictions):.4f}\")\n",
    "print(f\"AUC Score (30% Test): {roc_auc_score(y_testB, rf_resample.predict_proba(X_testB)[:,1]):.4f}\")"
   ]
  },
  {
   "cell_type": "markdown",
   "metadata": {},
   "source": [
    "# Gradient Boosting"
   ]
  },
  {
   "cell_type": "code",
   "execution_count": 98,
   "metadata": {},
   "outputs": [],
   "source": [
    "from sklearn.ensemble import AdaBoostClassifier"
   ]
  },
  {
   "cell_type": "code",
   "execution_count": 273,
   "metadata": {},
   "outputs": [],
   "source": [
    "parameters = {\n",
    "    \"learning_rate\": [0.01, 0.025, 0.05, 0.075, 0.1, 0.15, 0.2],\n",
    "    }"
   ]
  },
  {
   "cell_type": "code",
   "execution_count": 274,
   "metadata": {},
   "outputs": [],
   "source": [
    "clf = GridSearchCV(AdaBoostClassifier(), parameters, cv=10, n_jobs=-1, scoring = 'roc_auc', verbose=True)"
   ]
  },
  {
   "cell_type": "code",
   "execution_count": 275,
   "metadata": {},
   "outputs": [
    {
     "name": "stdout",
     "output_type": "stream",
     "text": [
      "Fitting 10 folds for each of 7 candidates, totalling 70 fits\n"
     ]
    },
    {
     "name": "stderr",
     "output_type": "stream",
     "text": [
      "[Parallel(n_jobs=-1)]: Using backend LokyBackend with 16 concurrent workers.\n",
      "[Parallel(n_jobs=-1)]: Done  18 tasks      | elapsed:    5.9s\n",
      "[Parallel(n_jobs=-1)]: Done  70 out of  70 | elapsed:   11.0s finished\n"
     ]
    },
    {
     "data": {
      "text/plain": [
       "GridSearchCV(cv=10, error_score=nan,\n",
       "             estimator=AdaBoostClassifier(algorithm='SAMME.R',\n",
       "                                          base_estimator=None,\n",
       "                                          learning_rate=1.0, n_estimators=50,\n",
       "                                          random_state=None),\n",
       "             iid='deprecated', n_jobs=-1,\n",
       "             param_grid={'learning_rate': [0.01, 0.025, 0.05, 0.075, 0.1, 0.15,\n",
       "                                           0.2]},\n",
       "             pre_dispatch='2*n_jobs', refit=True, return_train_score=False,\n",
       "             scoring='roc_auc', verbose=True)"
      ]
     },
     "execution_count": 275,
     "metadata": {},
     "output_type": "execute_result"
    }
   ],
   "source": [
    "clf.fit(X_train, y_train)"
   ]
  },
  {
   "cell_type": "code",
   "execution_count": 276,
   "metadata": {},
   "outputs": [
    {
     "data": {
      "text/plain": [
       "AdaBoostClassifier(algorithm='SAMME.R', base_estimator=None, learning_rate=0.15,\n",
       "                   n_estimators=50, random_state=None)"
      ]
     },
     "execution_count": 276,
     "metadata": {},
     "output_type": "execute_result"
    }
   ],
   "source": [
    "clf.best_estimator_"
   ]
  },
  {
   "cell_type": "code",
   "execution_count": 278,
   "metadata": {},
   "outputs": [
    {
     "name": "stdout",
     "output_type": "stream",
     "text": [
      "Accuracy (30% Test): 0.6862\n",
      "AUC Score (30% Test): 0.6933\n"
     ]
    },
    {
     "data": {
      "image/png": "[encoded data removed]",
      "text/plain": [
       "<Figure size 432x288 with 2 Axes>"
      ]
     },
     "metadata": {
      "needs_background": "light"
     },
     "output_type": "display_data"
    }
   ],
   "source": [
    "y_predictions = clf.predict(X_testB)\n",
    "cm_log = confusion_matrix(y_testB, y_predictions)\n",
    "sns.heatmap(cm_log, annot = True, fmt = 'd', cmap = 'Blues')\n",
    "\n",
    "print(f\"Accuracy (30% Test): {accuracy_score(y_testB, y_predictions):.4f}\")\n",
    "print(f\"AUC Score (30% Test): {roc_auc_score(y_testB, clf.predict_proba(X_testB)[:,1]):.4f}\")"
   ]
  },
  {
   "cell_type": "code",
   "execution_count": 123,
   "metadata": {},
   "outputs": [],
   "source": []
  },
  {
   "cell_type": "code",
   "execution_count": 247,
   "metadata": {},
   "outputs": [],
   "source": [
    "model = Pipeline([\n",
    "        ('sampling', ADASYN()),\n",
    "        ('classification', AdaBoostClassifier())\n",
    "    ])"
   ]
  },
  {
   "cell_type": "code",
   "execution_count": 248,
   "metadata": {},
   "outputs": [],
   "source": [
    "parameters = {\"classification__learning_rate\": [0.01, 0.025, 0.05, 0.075, 0.1, 0.15, 0.2]}\n",
    "\n",
    "clf_resample = GridSearchCV(model, parameters, verbose = True)\n"
   ]
  },
  {
   "cell_type": "code",
   "execution_count": 249,
   "metadata": {},
   "outputs": [
    {
     "name": "stdout",
     "output_type": "stream",
     "text": [
      "Fitting 5 folds for each of 7 candidates, totalling 35 fits\n"
     ]
    },
    {
     "name": "stderr",
     "output_type": "stream",
     "text": [
      "[Parallel(n_jobs=1)]: Using backend SequentialBackend with 1 concurrent workers.\n",
      "[Parallel(n_jobs=1)]: Done  35 out of  35 | elapsed:  1.4min finished\n"
     ]
    },
    {
     "data": {
      "text/plain": [
       "GridSearchCV(cv=None, error_score=nan,\n",
       "             estimator=Pipeline(memory=None,\n",
       "                                steps=[('sampling',\n",
       "                                        ADASYN(n_jobs=None, n_neighbors=5,\n",
       "                                               random_state=None,\n",
       "                                               sampling_strategy='auto')),\n",
       "                                       ('classification',\n",
       "                                        AdaBoostClassifier(algorithm='SAMME.R',\n",
       "                                                           base_estimator=None,\n",
       "                                                           learning_rate=1.0,\n",
       "                                                           n_estimators=50,\n",
       "                                                           random_state=None))],\n",
       "                                verbose=False),\n",
       "             iid='deprecated', n_jobs=None,\n",
       "             param_grid={'classification__learning_rate': [0.01, 0.025, 0.05,\n",
       "                                                           0.075, 0.1, 0.15,\n",
       "                                                           0.2]},\n",
       "             pre_dispatch='2*n_jobs', refit=True, return_train_score=False,\n",
       "             scoring=None, verbose=True)"
      ]
     },
     "execution_count": 249,
     "metadata": {},
     "output_type": "execute_result"
    }
   ],
   "source": [
    "clf_resample.fit(X_train, y_train)"
   ]
  },
  {
   "cell_type": "code",
   "execution_count": 260,
   "metadata": {},
   "outputs": [
    {
     "name": "stdout",
     "output_type": "stream",
     "text": [
      "Accuracy (30% Test): 0.6383\n",
      "AUC Score (30% Test): 0.6853\n"
     ]
    },
    {
     "data": {
      "image/png": "[encoded data removed]",
      "text/plain": [
       "<Figure size 432x288 with 2 Axes>"
      ]
     },
     "metadata": {
      "needs_background": "light"
     },
     "output_type": "display_data"
    }
   ],
   "source": [
    "y_predictions = clf_resample.predict(X_testB)\n",
    "cm_log = confusion_matrix(y_testB, y_predictions)\n",
    "sns.heatmap(cm_log, annot = True, fmt = 'd', cmap = 'Blues')\n",
    "\n",
    "print(f\"Accuracy (30% Test): {accuracy_score(y_testB, y_predictions):.4f}\")\n",
    "print(f\"AUC Score (30% Test): {roc_auc_score(y_testB, clf_resample.predict_proba(X_testB)[:,1]):.4f}\")"
   ]
  },
  {
   "cell_type": "markdown",
   "metadata": {},
   "source": [
    "# Blended Model"
   ]
  },
  {
   "cell_type": "code",
   "execution_count": 235,
   "metadata": {},
   "outputs": [],
   "source": [
    "X_train, X_testB, y_train, y_testB = train_test_split(custom_df, combined_df.Winner,\n",
    "                                                      test_size = .3, random_state = 125, stratify = combined_df.Winner)"
   ]
  },
  {
   "cell_type": "code",
   "execution_count": 236,
   "metadata": {},
   "outputs": [],
   "source": [
    "X_val, X_test, y_val, y_test = train_test_split(X_testB, y_testB,\n",
    "                                                      test_size = .5, random_state = 125, stratify = y_testB)"
   ]
  },
  {
   "cell_type": "code",
   "execution_count": 237,
   "metadata": {},
   "outputs": [],
   "source": [
    "logEnsemble = LogisticRegression()"
   ]
  },
  {
   "cell_type": "code",
   "execution_count": 305,
   "metadata": {},
   "outputs": [],
   "source": [
    "y_prediction_log = pd.Series(logMod.predict_proba(X_val)[:,1].flatten())\n",
    "y_prediction_rf = pd.Series(rf_resample.predict_proba(X_val)[:,1].flatten())\n",
    "y_prediction_gb = pd.Series(clf.predict_proba(X_val)[:,1].flatten())"
   ]
  },
  {
   "cell_type": "code",
   "execution_count": 312,
   "metadata": {},
   "outputs": [],
   "source": [
    "blended_df = pd.concat([y_prediction_log, y_prediction_rf, y_prediction_gb], axis = 1)"
   ]
  },
  {
   "cell_type": "code",
   "execution_count": 316,
   "metadata": {},
   "outputs": [
    {
     "data": {
      "text/html": [
       "<div>\n",
       "<style scoped>\n",
       "    .dataframe tbody tr th:only-of-type {\n",
       "        vertical-align: middle;\n",
       "    }\n",
       "\n",
       "    .dataframe tbody tr th {\n",
       "        vertical-align: top;\n",
       "    }\n",
       "\n",
       "    .dataframe thead th {\n",
       "        text-align: right;\n",
       "    }\n",
       "</style>\n",
       "<table border=\"1\" class=\"dataframe\">\n",
       "  <thead>\n",
       "    <tr style=\"text-align: right;\">\n",
       "      <th></th>\n",
       "      <th>Log</th>\n",
       "      <th>RF</th>\n",
       "      <th>GB</th>\n",
       "    </tr>\n",
       "  </thead>\n",
       "  <tbody>\n",
       "    <tr>\n",
       "      <th>0</th>\n",
       "      <td>0.504262</td>\n",
       "      <td>0.63</td>\n",
       "      <td>0.533051</td>\n",
       "    </tr>\n",
       "    <tr>\n",
       "      <th>1</th>\n",
       "      <td>0.718694</td>\n",
       "      <td>0.59</td>\n",
       "      <td>0.547655</td>\n",
       "    </tr>\n",
       "    <tr>\n",
       "      <th>2</th>\n",
       "      <td>0.757143</td>\n",
       "      <td>0.57</td>\n",
       "      <td>0.526714</td>\n",
       "    </tr>\n",
       "    <tr>\n",
       "      <th>3</th>\n",
       "      <td>0.831277</td>\n",
       "      <td>0.77</td>\n",
       "      <td>0.727501</td>\n",
       "    </tr>\n",
       "    <tr>\n",
       "      <th>4</th>\n",
       "      <td>0.796206</td>\n",
       "      <td>0.75</td>\n",
       "      <td>0.527389</td>\n",
       "    </tr>\n",
       "    <tr>\n",
       "      <th>...</th>\n",
       "      <td>...</td>\n",
       "      <td>...</td>\n",
       "      <td>...</td>\n",
       "    </tr>\n",
       "    <tr>\n",
       "      <th>559</th>\n",
       "      <td>0.722745</td>\n",
       "      <td>0.74</td>\n",
       "      <td>0.536940</td>\n",
       "    </tr>\n",
       "    <tr>\n",
       "      <th>560</th>\n",
       "      <td>0.894532</td>\n",
       "      <td>0.59</td>\n",
       "      <td>0.549052</td>\n",
       "    </tr>\n",
       "    <tr>\n",
       "      <th>561</th>\n",
       "      <td>0.681156</td>\n",
       "      <td>0.37</td>\n",
       "      <td>0.507021</td>\n",
       "    </tr>\n",
       "    <tr>\n",
       "      <th>562</th>\n",
       "      <td>0.768061</td>\n",
       "      <td>0.78</td>\n",
       "      <td>0.539903</td>\n",
       "    </tr>\n",
       "    <tr>\n",
       "      <th>563</th>\n",
       "      <td>0.821724</td>\n",
       "      <td>0.55</td>\n",
       "      <td>0.520911</td>\n",
       "    </tr>\n",
       "  </tbody>\n",
       "</table>\n",
       "<p>564 rows × 3 columns</p>\n",
       "</div>"
      ],
      "text/plain": [
       "          Log    RF        GB\n",
       "0    0.504262  0.63  0.533051\n",
       "1    0.718694  0.59  0.547655\n",
       "2    0.757143  0.57  0.526714\n",
       "3    0.831277  0.77  0.727501\n",
       "4    0.796206  0.75  0.527389\n",
       "..        ...   ...       ...\n",
       "559  0.722745  0.74  0.536940\n",
       "560  0.894532  0.59  0.549052\n",
       "561  0.681156  0.37  0.507021\n",
       "562  0.768061  0.78  0.539903\n",
       "563  0.821724  0.55  0.520911\n",
       "\n",
       "[564 rows x 3 columns]"
      ]
     },
     "execution_count": 316,
     "metadata": {},
     "output_type": "execute_result"
    }
   ],
   "source": [
    "blended_val = y_val.reset_index(drop = True)\n",
    "blended_df.columns = ['Log', \"RF\", \"GB\"]\n",
    "blended_df"
   ]
  },
  {
   "cell_type": "code",
   "execution_count": 317,
   "metadata": {},
   "outputs": [],
   "source": [
    "blendedMod = LogisticRegression()"
   ]
  },
  {
   "cell_type": "code",
   "execution_count": 318,
   "metadata": {},
   "outputs": [
    {
     "data": {
      "text/plain": [
       "LogisticRegression(C=1.0, class_weight=None, dual=False, fit_intercept=True,\n",
       "                   intercept_scaling=1, l1_ratio=None, max_iter=100,\n",
       "                   multi_class='auto', n_jobs=None, penalty='l2',\n",
       "                   random_state=None, solver='lbfgs', tol=0.0001, verbose=0,\n",
       "                   warm_start=False)"
      ]
     },
     "execution_count": 318,
     "metadata": {},
     "output_type": "execute_result"
    }
   ],
   "source": [
    "blendedMod.fit(blended_df, blended_val)"
   ]
  },
  {
   "cell_type": "code",
   "execution_count": 319,
   "metadata": {},
   "outputs": [],
   "source": [
    "X_test_prediction_log = pd.Series(logMod.predict_proba(X_test)[:,1].flatten())\n",
    "X_test_prediction_rf = pd.Series(rf_resample.predict_proba(X_test)[:,1].flatten())\n",
    "X_test_prediction_gb = pd.Series(clf.predict_proba(X_test)[:,1].flatten())"
   ]
  },
  {
   "cell_type": "code",
   "execution_count": 320,
   "metadata": {},
   "outputs": [],
   "source": [
    "blended_X_test = pd.concat([X_test_prediction_log, X_test_prediction_rf, X_test_prediction_gb], axis = 1)"
   ]
  },
  {
   "cell_type": "code",
   "execution_count": 561,
   "metadata": {},
   "outputs": [
    {
     "name": "stdout",
     "output_type": "stream",
     "text": [
      "Accuracy (15% Test): 0.6826\n",
      "AUC Score (15% Test): 0.7141\n"
     ]
    },
    {
     "data": {
      "image/png": "[encoded data removed]",
      "text/plain": [
       "<Figure size 432x288 with 2 Axes>"
      ]
     },
     "metadata": {
      "needs_background": "light"
     },
     "output_type": "display_data"
    }
   ],
   "source": [
    "y_predictions = blendedMod.predict(blended_X_test)\n",
    "cm_log = confusion_matrix(y_test.reset_index(drop = True), y_predictions)\n",
    "sns.heatmap(cm_log, annot = True, fmt = 'd', cmap = 'Blues')\n",
    "\n",
    "print(f\"Accuracy (15% Test): {accuracy_score(y_test, y_predictions):.4f}\")\n",
    "print(f\"AUC Score (15% Test): {roc_auc_score(y_test, blendedMod.predict_proba(blended_X_test)[:,1]):.4f}\")"
   ]
  },
  {
   "cell_type": "markdown",
   "metadata": {},
   "source": [
    "# Bootstrap the Blended Model"
   ]
  },
  {
   "cell_type": "code",
   "execution_count": 594,
   "metadata": {},
   "outputs": [],
   "source": [
    "from sklearn.utils import resample\n",
    "from sklearn.metrics import roc_auc_score"
   ]
  },
  {
   "cell_type": "code",
   "execution_count": 560,
   "metadata": {},
   "outputs": [
    {
     "data": {
      "text/plain": [
       "1128"
      ]
     },
     "execution_count": 560,
     "metadata": {},
     "output_type": "execute_result"
    }
   ],
   "source": []
  },
  {
   "cell_type": "code",
   "execution_count": 565,
   "metadata": {},
   "outputs": [],
   "source": [
    "blended_data = pd.concat([blended_X_test, y_test.reset_index(drop = True)], axis = 1)\n",
    "blended_data.columns = ['Log', 'RF', 'GB', 'Winner']"
   ]
  },
  {
   "cell_type": "code",
   "execution_count": 578,
   "metadata": {},
   "outputs": [],
   "source": [
    "bootstrap_data = []\n",
    "for i in np.arange(0, 1000, 1):\n",
    "    bootstrap_data.append(resample(blended_data, n_samples = y_test.shape[0]))"
   ]
  },
  {
   "cell_type": "code",
   "execution_count": 596,
   "metadata": {},
   "outputs": [],
   "source": [
    "bootstrap_accuracies = []\n",
    "aucs = []\n",
    "for item in bootstrap_data:\n",
    "    X = item.iloc[:, 0:3]\n",
    "    y = item.iloc[:, 3]\n",
    "    boot_prediction = blendedMod.predict(X)\n",
    "    boot_proba = blendedMod.predict_proba(X)\n",
    "    bootstrap_accuracies.append(accuracy_score(boot_prediction, y))\n",
    "    aucs.append(roc_auc_score(y, boot_proba[:,1]))"
   ]
  },
  {
   "cell_type": "code",
   "execution_count": 621,
   "metadata": {},
   "outputs": [
    {
     "data": {
      "text/plain": [
       "<matplotlib.axes._subplots.AxesSubplot at 0x1e330c6c7f0>"
      ]
     },
     "execution_count": 621,
     "metadata": {},
     "output_type": "execute_result"
    },
    {
     "data": {
      "image/png": "[encoded data removed]",
      "text/plain": [
       "<Figure size 648x648 with 2 Axes>"
      ]
     },
     "metadata": {},
     "output_type": "display_data"
    }
   ],
   "source": [
    "sns.set(style=\"white\", palette=\"muted\", color_codes=True)\n",
    "\n",
    "# Set up the matplotlib figure\n",
    "f, axes = plt.subplots(2, 1, figsize=(9, 9))\n",
    "sns.despine(left=True)\n",
    "\n",
    "f.suptitle('Performance metrics of 1000 Bootstrapped Test Sets')\n",
    "axes[0].set_title(\"Distribution of Accuracy\")\n",
    "sns.distplot(bootstrap_accuracies, ax=axes[0])\n",
    "\n",
    "axes[1].set_title('Distribution of AUC')\n",
    "sns.distplot(aucs, ax= axes[1])\n"
   ]
  },
  {
   "cell_type": "code",
   "execution_count": 593,
   "metadata": {},
   "outputs": [
    {
     "data": {
      "text/plain": [
       "0.683131205673759"
      ]
     },
     "execution_count": 593,
     "metadata": {},
     "output_type": "execute_result"
    }
   ],
   "source": [
    "np.mean(bootstrap_accuracies)"
   ]
  },
  {
   "cell_type": "code",
   "execution_count": null,
   "metadata": {},
   "outputs": [],
   "source": []
  },
  {
   "cell_type": "code",
   "execution_count": null,
   "metadata": {},
   "outputs": [],
   "source": []
  },
  {
   "cell_type": "code",
   "execution_count": null,
   "metadata": {},
   "outputs": [],
   "source": []
  },
  {
   "cell_type": "code",
   "execution_count": null,
   "metadata": {},
   "outputs": [],
   "source": []
  },
  {
   "cell_type": "code",
   "execution_count": null,
   "metadata": {},
   "outputs": [],
   "source": []
  },
  {
   "cell_type": "code",
   "execution_count": null,
   "metadata": {},
   "outputs": [],
   "source": []
  },
  {
   "cell_type": "markdown",
   "metadata": {},
   "source": [
    "# New fights from 12/7 & 12/14:"
   ]
  },
  {
   "cell_type": "code",
   "execution_count": 494,
   "metadata": {},
   "outputs": [],
   "source": [
    "new_fights = pd.read_csv('new_fights_final.csv')"
   ]
  },
  {
   "cell_type": "code",
   "execution_count": 495,
   "metadata": {},
   "outputs": [],
   "source": [
    "new_fights = new_fights.iloc[0:17, :]"
   ]
  },
  {
   "cell_type": "code",
   "execution_count": 496,
   "metadata": {},
   "outputs": [],
   "source": [
    "new_fights.drop(new_fights.columns[0] ,axis = 1,inplace = True)"
   ]
  },
  {
   "cell_type": "code",
   "execution_count": 497,
   "metadata": {},
   "outputs": [
    {
     "data": {
      "text/plain": [
       "(17, 160)"
      ]
     },
     "execution_count": 497,
     "metadata": {},
     "output_type": "execute_result"
    }
   ],
   "source": [
    "new_fights.shape"
   ]
  },
  {
   "cell_type": "code",
   "execution_count": null,
   "metadata": {},
   "outputs": [],
   "source": []
  },
  {
   "cell_type": "code",
   "execution_count": 498,
   "metadata": {},
   "outputs": [],
   "source": [
    "new_fights['Winner'] = new_fights['Winner'].replace(winner_dict)\n",
    "new_fights['title_bout'] = new_fights['title_bout'].replace(bool_dict)"
   ]
  },
  {
   "cell_type": "code",
   "execution_count": 499,
   "metadata": {},
   "outputs": [],
   "source": [
    "new_fights['Reach_diff'] = new_fights['R_Reach_cms'] - new_fights['B_Reach_cms']\n",
    "new_fights['Weight_diff'] = new_fights['R_Weight_lbs'] - new_fights['B_Weight_lbs']\n",
    "new_fights['Height_diff'] = new_fights['R_Height_cms'] - new_fights['B_Height_cms']"
   ]
  },
  {
   "cell_type": "code",
   "execution_count": 500,
   "metadata": {},
   "outputs": [],
   "source": [
    "new_accuracy_list = []\n",
    "for item in accuracy_metrics:\n",
    "    new_accuracy_list.append(accuracy(new_fights, item[0], item[1]))"
   ]
  },
  {
   "cell_type": "code",
   "execution_count": 501,
   "metadata": {},
   "outputs": [],
   "source": [
    "new_accuracy_df = pd.DataFrame(new_accuracy_list).transpose()"
   ]
  },
  {
   "cell_type": "code",
   "execution_count": 502,
   "metadata": {},
   "outputs": [],
   "source": [
    "new_accuracy_df.columns = ['B_avg_BODY_pct', 'B_avg_CLINCH_pct', 'B_avg_DISTANCE_pct', 'B_avg_GROUND_pct',\n",
    "                      'B_avg_HEAD_pct', 'B_avg_LEG_pct', 'B_avg_TOTAL_STR_pct',\n",
    "                      'R_avg_BODY_pct', 'R_avg_CLINCH_pct', 'R_avg_DISTANCE_pct', 'R_avg_GROUND_pct',\n",
    "                      'R_avg_HEAD_pct', 'R_avg_LEG_pct', 'R_avg_TOTAL_STR_pct']"
   ]
  },
  {
   "cell_type": "code",
   "execution_count": 503,
   "metadata": {},
   "outputs": [],
   "source": [
    "new_combined_df = pd.concat([new_fights, new_accuracy_df], axis = 1)"
   ]
  },
  {
   "cell_type": "code",
   "execution_count": 504,
   "metadata": {},
   "outputs": [],
   "source": [
    "new_df_scaled = preprocessing.scale(new_combined_df[continuous])\n",
    "new_df_scaled = pd.DataFrame(new_df_scaled, columns = continuous)"
   ]
  },
  {
   "cell_type": "code",
   "execution_count": 505,
   "metadata": {},
   "outputs": [],
   "source": [
    "new_df_scaled = pd.concat([new_df_scaled, new_combined_df[categorical]], axis = 1)"
   ]
  },
  {
   "cell_type": "code",
   "execution_count": 506,
   "metadata": {},
   "outputs": [],
   "source": [
    "new_combined_scaled = pd.concat([new_df_scaled, new_combined_df.Winner], axis = 1)"
   ]
  },
  {
   "cell_type": "code",
   "execution_count": 507,
   "metadata": {},
   "outputs": [
    {
     "data": {
      "text/plain": [
       "(17, 177)"
      ]
     },
     "execution_count": 507,
     "metadata": {},
     "output_type": "execute_result"
    }
   ],
   "source": [
    "new_combined_scaled.shape"
   ]
  },
  {
   "cell_type": "code",
   "execution_count": 508,
   "metadata": {},
   "outputs": [],
   "source": [
    "new_combined_scaled.drop(weight_cols, axis = 1, inplace = True)\n",
    "actual = new_combined_scaled['Winner']\n",
    "new_combined_scaled.drop(['Winner'], axis = 1, inplace = True)"
   ]
  },
  {
   "cell_type": "code",
   "execution_count": 509,
   "metadata": {},
   "outputs": [
    {
     "data": {
      "text/plain": [
       "(17, 162)"
      ]
     },
     "execution_count": 509,
     "metadata": {},
     "output_type": "execute_result"
    }
   ],
   "source": [
    "new_combined_scaled.shape"
   ]
  },
  {
   "cell_type": "code",
   "execution_count": 510,
   "metadata": {},
   "outputs": [],
   "source": [
    "new_prediction_log = pd.Series(logMod.predict_proba(new_combined_scaled)[:,1].flatten())\n",
    "new_prediction_rf = pd.Series(rf_resample.predict_proba(new_combined_scaled)[:,1].flatten())\n",
    "new_prediction_gb = pd.Series(clf.predict_proba(new_combined_scaled)[:,1].flatten())"
   ]
  },
  {
   "cell_type": "code",
   "execution_count": 511,
   "metadata": {},
   "outputs": [],
   "source": [
    "new_test = pd.concat([new_prediction_log, new_prediction_rf, new_prediction_gb], axis = 1)"
   ]
  },
  {
   "cell_type": "code",
   "execution_count": 512,
   "metadata": {},
   "outputs": [],
   "source": [
    "new_preds = blendedMod.predict(new_test)"
   ]
  },
  {
   "cell_type": "code",
   "execution_count": 514,
   "metadata": {},
   "outputs": [
    {
     "data": {
      "text/plain": [
       "array([1, 1, 1, 1, 1, 1, 1, 0, 1, 1, 1, 1, 1, 1, 0, 1, 1], dtype=int64)"
      ]
     },
     "execution_count": 514,
     "metadata": {},
     "output_type": "execute_result"
    }
   ],
   "source": [
    "new_preds"
   ]
  },
  {
   "cell_type": "code",
   "execution_count": 515,
   "metadata": {},
   "outputs": [],
   "source": [
    "new_accuracy = sum(new_preds)/16"
   ]
  },
  {
   "cell_type": "code",
   "execution_count": 516,
   "metadata": {},
   "outputs": [
    {
     "data": {
      "text/plain": [
       "0.9375"
      ]
     },
     "execution_count": 516,
     "metadata": {},
     "output_type": "execute_result"
    }
   ],
   "source": [
    "new_accuracy"
   ]
  },
  {
   "cell_type": "code",
   "execution_count": null,
   "metadata": {},
   "outputs": [],
   "source": []
  }
 ],
 "metadata": {
  "kernelspec": {
   "display_name": "Python 3",
   "language": "python",
   "name": "python3"
  },
  "language_info": {
   "codemirror_mode": {
    "name": "ipython",
    "version": 3
   },
   "file_extension": ".py",
   "mimetype": "text/x-python",
   "name": "python",
   "nbconvert_exporter": "python",
   "pygments_lexer": "ipython3",
   "version": "3.7.3"
  }
 },
 "nbformat": 4,
 "nbformat_minor": 2
}
