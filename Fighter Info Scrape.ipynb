{
 "cells": [
  {
   "cell_type": "code",
   "execution_count": 1,
   "metadata": {},
   "outputs": [],
   "source": [
    "import requests\n",
    "from bs4 import BeautifulSoup\n",
    "import numpy as np\n",
    "import pandas as pd\n",
    "import re\n",
    "from html import unescape\n",
    "from datetime import datetime as dt\n",
    "import time\n",
    "import lxml\n"
   ]
  },
  {
   "cell_type": "code",
   "execution_count": 2,
   "metadata": {},
   "outputs": [],
   "source": [
    "#Scrape from UFC Statistics: Weight, Height, Reach, Stance & DOB"
   ]
  },
  {
   "cell_type": "code",
   "execution_count": 5,
   "metadata": {},
   "outputs": [],
   "source": [
    "UFC_MAIN = 'http://ufcstats.com/statistics/events/completed'\n",
    "page = requests.get(UFC_MAIN)\n",
    "soup = BeautifulSoup(page.text, 'html.parser')"
   ]
  },
  {
   "cell_type": "code",
   "execution_count": 6,
   "metadata": {},
   "outputs": [],
   "source": [
    "detail_urls = [] #this grabs urls for each day recorded\n",
    "for url in soup.find_all(class_='b-link b-link_style_black'):\n",
    "    time.sleep(.5)\n",
    "    detail_urls.append(url['href'])"
   ]
  },
  {
   "cell_type": "code",
   "execution_count": 9,
   "metadata": {},
   "outputs": [],
   "source": [
    "day = BeautifulSoup(requests.get(detail_urls[0]).text, 'html.parser')"
   ]
  },
  {
   "cell_type": "code",
   "execution_count": 17,
   "metadata": {},
   "outputs": [],
   "source": [
    "fighter_urls = []\n",
    "for url in day.find_all(class_='b-link b-link_style_black'):\n",
    "    time.sleep(.5)\n",
    "    fighter_urls.append(url['href'])"
   ]
  },
  {
   "cell_type": "code",
   "execution_count": 20,
   "metadata": {},
   "outputs": [],
   "source": [
    "fighter = BeautifulSoup(requests.get(fighter_urls[0]).text, 'html.parser')"
   ]
  },
  {
   "cell_type": "code",
   "execution_count": 28,
   "metadata": {},
   "outputs": [
    {
     "data": {
      "text/plain": [
       "'\\n      5\\' 5\"\\n    '"
      ]
     },
     "execution_count": 28,
     "metadata": {},
     "output_type": "execute_result"
    }
   ],
   "source": [
    "fighter.find_all('li', 'b-list__box-list-item b-list__box-list-item_type_block')[0].contents[-1]"
   ]
  },
  {
   "cell_type": "code",
   "execution_count": 29,
   "metadata": {},
   "outputs": [
    {
     "name": "stdout",
     "output_type": "stream",
     "text": [
      "\n",
      "      5' 5\"\n",
      "    \n",
      "\n",
      "      125 lbs.\n",
      "    \n",
      "\n",
      "      68\"\n",
      "    \n",
      "\n",
      "      Orthodox\n",
      "    \n",
      "\n",
      "      \n",
      "        Dec 18, 1987\n",
      "      \n",
      "    \n",
      "\n",
      "\n",
      "          2.54\n",
      "\n",
      "        \n",
      "\n",
      "          52%\n",
      "        \n",
      "\n",
      "          2.76\n",
      "        \n",
      "\n",
      "          52%\n",
      "        \n",
      "\n",
      "\n",
      "\n",
      "          1.81\n",
      "        \n",
      "\n",
      "          50%\n",
      "        \n",
      "\n",
      "          61%\n",
      "        \n",
      "\n",
      "          2.4\n",
      "        \n"
     ]
    }
   ],
   "source": [
    "for item in fighter.find_all('li', 'b-list__box-list-item b-list__box-list-item_type_block'):\n",
    "        print(item.contents[-1])"
   ]
  },
  {
   "cell_type": "code",
   "execution_count": null,
   "metadata": {},
   "outputs": [],
   "source": []
  },
  {
   "cell_type": "code",
   "execution_count": null,
   "metadata": {},
   "outputs": [],
   "source": []
  },
  {
   "cell_type": "code",
   "execution_count": null,
   "metadata": {},
   "outputs": [],
   "source": []
  },
  {
   "cell_type": "code",
   "execution_count": null,
   "metadata": {},
   "outputs": [],
   "source": []
  },
  {
   "cell_type": "code",
   "execution_count": null,
   "metadata": {},
   "outputs": [],
   "source": []
  }
 ],
 "metadata": {
  "kernelspec": {
   "display_name": "Python 3",
   "language": "python",
   "name": "python3"
  },
  "language_info": {
   "codemirror_mode": {
    "name": "ipython",
    "version": 3
   },
   "file_extension": ".py",
   "mimetype": "text/x-python",
   "name": "python",
   "nbconvert_exporter": "python",
   "pygments_lexer": "ipython3",
   "version": "3.7.3"
  }
 },
 "nbformat": 4,
 "nbformat_minor": 4
}
