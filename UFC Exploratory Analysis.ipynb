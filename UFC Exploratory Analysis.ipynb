{
 "cells": [
  {
   "cell_type": "code",
   "execution_count": 339,
   "metadata": {},
   "outputs": [],
   "source": [
    "import pandas as pd\n",
    "import numpy as np\n",
    "import seaborn as sns\n",
    "import matplotlib.pyplot as plt\n",
    "\n",
    "%matplotlib inline"
   ]
  },
  {
   "cell_type": "code",
   "execution_count": 369,
   "metadata": {},
   "outputs": [],
   "source": [
    "df = pd.read_csv('Data/model_data.csv', index_col = 0)"
   ]
  },
  {
   "cell_type": "code",
   "execution_count": 370,
   "metadata": {},
   "outputs": [
    {
     "data": {
      "text/html": [
       "<div>\n",
       "<style scoped>\n",
       "    .dataframe tbody tr th:only-of-type {\n",
       "        vertical-align: middle;\n",
       "    }\n",
       "\n",
       "    .dataframe tbody tr th {\n",
       "        vertical-align: top;\n",
       "    }\n",
       "\n",
       "    .dataframe thead th {\n",
       "        text-align: right;\n",
       "    }\n",
       "</style>\n",
       "<table border=\"1\" class=\"dataframe\">\n",
       "  <thead>\n",
       "    <tr style=\"text-align: right;\">\n",
       "      <th></th>\n",
       "      <th>Height</th>\n",
       "      <th>Reach</th>\n",
       "      <th>Weight</th>\n",
       "      <th>age</th>\n",
       "      <th>loss</th>\n",
       "      <th>win</th>\n",
       "      <th>draws</th>\n",
       "      <th>streak</th>\n",
       "      <th>cum_match_time</th>\n",
       "      <th>avg_cum_KD</th>\n",
       "      <th>...</th>\n",
       "      <th>eff_body.1</th>\n",
       "      <th>eff_distance.1</th>\n",
       "      <th>eff_clinch.1</th>\n",
       "      <th>eff_ground.1</th>\n",
       "      <th>title_bout</th>\n",
       "      <th>attendance</th>\n",
       "      <th>num_rounds</th>\n",
       "      <th>label</th>\n",
       "      <th>matches</th>\n",
       "      <th>matches.1</th>\n",
       "    </tr>\n",
       "  </thead>\n",
       "  <tbody>\n",
       "    <tr>\n",
       "      <td>count</td>\n",
       "      <td>5538.00000</td>\n",
       "      <td>5538.000000</td>\n",
       "      <td>5538.000000</td>\n",
       "      <td>5538.000000</td>\n",
       "      <td>5538.000000</td>\n",
       "      <td>5538.000000</td>\n",
       "      <td>5538.000000</td>\n",
       "      <td>5538.000000</td>\n",
       "      <td>5538.000000</td>\n",
       "      <td>5538.000000</td>\n",
       "      <td>...</td>\n",
       "      <td>5538.000000</td>\n",
       "      <td>5538.000000</td>\n",
       "      <td>5538.000000</td>\n",
       "      <td>5538.000000</td>\n",
       "      <td>5538.000000</td>\n",
       "      <td>5318.000000</td>\n",
       "      <td>5538.000000</td>\n",
       "      <td>5538.000000</td>\n",
       "      <td>5538.000000</td>\n",
       "      <td>5538.000000</td>\n",
       "    </tr>\n",
       "    <tr>\n",
       "      <td>mean</td>\n",
       "      <td>68.67082</td>\n",
       "      <td>65.988443</td>\n",
       "      <td>171.233658</td>\n",
       "      <td>29.189411</td>\n",
       "      <td>1.697183</td>\n",
       "      <td>3.225533</td>\n",
       "      <td>0.080715</td>\n",
       "      <td>0.446551</td>\n",
       "      <td>52.740074</td>\n",
       "      <td>0.552777</td>\n",
       "      <td>...</td>\n",
       "      <td>0.661486</td>\n",
       "      <td>0.360137</td>\n",
       "      <td>0.605491</td>\n",
       "      <td>0.586300</td>\n",
       "      <td>0.064283</td>\n",
       "      <td>11218.474991</td>\n",
       "      <td>3.096605</td>\n",
       "      <td>1679.775912</td>\n",
       "      <td>6.003431</td>\n",
       "      <td>5.707656</td>\n",
       "    </tr>\n",
       "    <tr>\n",
       "      <td>std</td>\n",
       "      <td>5.35830</td>\n",
       "      <td>20.824790</td>\n",
       "      <td>36.148145</td>\n",
       "      <td>5.939182</td>\n",
       "      <td>2.065969</td>\n",
       "      <td>3.776617</td>\n",
       "      <td>0.292251</td>\n",
       "      <td>1.964682</td>\n",
       "      <td>59.378276</td>\n",
       "      <td>3.014174</td>\n",
       "      <td>...</td>\n",
       "      <td>0.250423</td>\n",
       "      <td>0.139076</td>\n",
       "      <td>0.262346</td>\n",
       "      <td>0.289868</td>\n",
       "      <td>0.245279</td>\n",
       "      <td>6268.257204</td>\n",
       "      <td>0.677207</td>\n",
       "      <td>12850.504826</td>\n",
       "      <td>5.533893</td>\n",
       "      <td>4.971432</td>\n",
       "    </tr>\n",
       "    <tr>\n",
       "      <td>min</td>\n",
       "      <td>0.00000</td>\n",
       "      <td>0.000000</td>\n",
       "      <td>0.000000</td>\n",
       "      <td>0.000000</td>\n",
       "      <td>0.000000</td>\n",
       "      <td>0.000000</td>\n",
       "      <td>0.000000</td>\n",
       "      <td>-7.000000</td>\n",
       "      <td>0.120000</td>\n",
       "      <td>0.000000</td>\n",
       "      <td>...</td>\n",
       "      <td>0.000000</td>\n",
       "      <td>0.000000</td>\n",
       "      <td>0.000000</td>\n",
       "      <td>0.000000</td>\n",
       "      <td>0.000000</td>\n",
       "      <td>0.000000</td>\n",
       "      <td>1.000000</td>\n",
       "      <td>0.000000</td>\n",
       "      <td>1.000000</td>\n",
       "      <td>1.000000</td>\n",
       "    </tr>\n",
       "    <tr>\n",
       "      <td>25%</td>\n",
       "      <td>65.00000</td>\n",
       "      <td>69.000000</td>\n",
       "      <td>145.000000</td>\n",
       "      <td>26.710000</td>\n",
       "      <td>0.000000</td>\n",
       "      <td>0.000000</td>\n",
       "      <td>0.000000</td>\n",
       "      <td>-1.000000</td>\n",
       "      <td>15.000000</td>\n",
       "      <td>0.000000</td>\n",
       "      <td>...</td>\n",
       "      <td>0.590000</td>\n",
       "      <td>0.290000</td>\n",
       "      <td>0.530000</td>\n",
       "      <td>0.500000</td>\n",
       "      <td>0.000000</td>\n",
       "      <td>7596.000000</td>\n",
       "      <td>3.000000</td>\n",
       "      <td>0.000000</td>\n",
       "      <td>2.000000</td>\n",
       "      <td>2.000000</td>\n",
       "    </tr>\n",
       "    <tr>\n",
       "      <td>50%</td>\n",
       "      <td>69.00000</td>\n",
       "      <td>72.000000</td>\n",
       "      <td>170.000000</td>\n",
       "      <td>29.520000</td>\n",
       "      <td>1.000000</td>\n",
       "      <td>2.000000</td>\n",
       "      <td>0.000000</td>\n",
       "      <td>0.000000</td>\n",
       "      <td>30.000000</td>\n",
       "      <td>0.000000</td>\n",
       "      <td>...</td>\n",
       "      <td>0.700000</td>\n",
       "      <td>0.360000</td>\n",
       "      <td>0.660000</td>\n",
       "      <td>0.650000</td>\n",
       "      <td>0.000000</td>\n",
       "      <td>10681.000000</td>\n",
       "      <td>3.000000</td>\n",
       "      <td>1.000000</td>\n",
       "      <td>4.000000</td>\n",
       "      <td>4.000000</td>\n",
       "    </tr>\n",
       "    <tr>\n",
       "      <td>75%</td>\n",
       "      <td>73.00000</td>\n",
       "      <td>75.000000</td>\n",
       "      <td>185.000000</td>\n",
       "      <td>32.360000</td>\n",
       "      <td>2.000000</td>\n",
       "      <td>5.000000</td>\n",
       "      <td>0.000000</td>\n",
       "      <td>1.000000</td>\n",
       "      <td>74.602500</td>\n",
       "      <td>0.400000</td>\n",
       "      <td>...</td>\n",
       "      <td>0.810000</td>\n",
       "      <td>0.420000</td>\n",
       "      <td>0.750000</td>\n",
       "      <td>0.760000</td>\n",
       "      <td>0.000000</td>\n",
       "      <td>14666.000000</td>\n",
       "      <td>3.000000</td>\n",
       "      <td>1.000000</td>\n",
       "      <td>8.000000</td>\n",
       "      <td>8.000000</td>\n",
       "    </tr>\n",
       "    <tr>\n",
       "      <td>max</td>\n",
       "      <td>80.00000</td>\n",
       "      <td>84.000000</td>\n",
       "      <td>770.000000</td>\n",
       "      <td>51.930000</td>\n",
       "      <td>15.000000</td>\n",
       "      <td>23.000000</td>\n",
       "      <td>3.000000</td>\n",
       "      <td>16.000000</td>\n",
       "      <td>388.190000</td>\n",
       "      <td>83.330000</td>\n",
       "      <td>...</td>\n",
       "      <td>1.000000</td>\n",
       "      <td>1.000000</td>\n",
       "      <td>1.000000</td>\n",
       "      <td>1.000000</td>\n",
       "      <td>1.000000</td>\n",
       "      <td>57127.000000</td>\n",
       "      <td>5.000000</td>\n",
       "      <td>99999.000000</td>\n",
       "      <td>34.000000</td>\n",
       "      <td>33.000000</td>\n",
       "    </tr>\n",
       "  </tbody>\n",
       "</table>\n",
       "<p>8 rows × 86 columns</p>\n",
       "</div>"
      ],
      "text/plain": [
       "           Height        Reach       Weight          age         loss  \\\n",
       "count  5538.00000  5538.000000  5538.000000  5538.000000  5538.000000   \n",
       "mean     68.67082    65.988443   171.233658    29.189411     1.697183   \n",
       "std       5.35830    20.824790    36.148145     5.939182     2.065969   \n",
       "min       0.00000     0.000000     0.000000     0.000000     0.000000   \n",
       "25%      65.00000    69.000000   145.000000    26.710000     0.000000   \n",
       "50%      69.00000    72.000000   170.000000    29.520000     1.000000   \n",
       "75%      73.00000    75.000000   185.000000    32.360000     2.000000   \n",
       "max      80.00000    84.000000   770.000000    51.930000    15.000000   \n",
       "\n",
       "               win        draws       streak  cum_match_time   avg_cum_KD  \\\n",
       "count  5538.000000  5538.000000  5538.000000     5538.000000  5538.000000   \n",
       "mean      3.225533     0.080715     0.446551       52.740074     0.552777   \n",
       "std       3.776617     0.292251     1.964682       59.378276     3.014174   \n",
       "min       0.000000     0.000000    -7.000000        0.120000     0.000000   \n",
       "25%       0.000000     0.000000    -1.000000       15.000000     0.000000   \n",
       "50%       2.000000     0.000000     0.000000       30.000000     0.000000   \n",
       "75%       5.000000     0.000000     1.000000       74.602500     0.400000   \n",
       "max      23.000000     3.000000    16.000000      388.190000    83.330000   \n",
       "\n",
       "       ...   eff_body.1  eff_distance.1  eff_clinch.1  eff_ground.1  \\\n",
       "count  ...  5538.000000     5538.000000   5538.000000   5538.000000   \n",
       "mean   ...     0.661486        0.360137      0.605491      0.586300   \n",
       "std    ...     0.250423        0.139076      0.262346      0.289868   \n",
       "min    ...     0.000000        0.000000      0.000000      0.000000   \n",
       "25%    ...     0.590000        0.290000      0.530000      0.500000   \n",
       "50%    ...     0.700000        0.360000      0.660000      0.650000   \n",
       "75%    ...     0.810000        0.420000      0.750000      0.760000   \n",
       "max    ...     1.000000        1.000000      1.000000      1.000000   \n",
       "\n",
       "        title_bout    attendance   num_rounds         label      matches  \\\n",
       "count  5538.000000   5318.000000  5538.000000   5538.000000  5538.000000   \n",
       "mean      0.064283  11218.474991     3.096605   1679.775912     6.003431   \n",
       "std       0.245279   6268.257204     0.677207  12850.504826     5.533893   \n",
       "min       0.000000      0.000000     1.000000      0.000000     1.000000   \n",
       "25%       0.000000   7596.000000     3.000000      0.000000     2.000000   \n",
       "50%       0.000000  10681.000000     3.000000      1.000000     4.000000   \n",
       "75%       0.000000  14666.000000     3.000000      1.000000     8.000000   \n",
       "max       1.000000  57127.000000     5.000000  99999.000000    34.000000   \n",
       "\n",
       "         matches.1  \n",
       "count  5538.000000  \n",
       "mean      5.707656  \n",
       "std       4.971432  \n",
       "min       1.000000  \n",
       "25%       2.000000  \n",
       "50%       4.000000  \n",
       "75%       8.000000  \n",
       "max      33.000000  \n",
       "\n",
       "[8 rows x 86 columns]"
      ]
     },
     "execution_count": 370,
     "metadata": {},
     "output_type": "execute_result"
    }
   ],
   "source": [
    "df.describe()"
   ]
  },
  {
   "cell_type": "code",
   "execution_count": 371,
   "metadata": {},
   "outputs": [
    {
     "data": {
      "text/plain": [
       "(5445, 94)"
      ]
     },
     "execution_count": 371,
     "metadata": {},
     "output_type": "execute_result"
    }
   ],
   "source": [
    "df = df[df['label'] != 99999]\n",
    "df.shape"
   ]
  },
  {
   "cell_type": "code",
   "execution_count": 372,
   "metadata": {},
   "outputs": [
    {
     "data": {
      "text/html": [
       "<div>\n",
       "<style scoped>\n",
       "    .dataframe tbody tr th:only-of-type {\n",
       "        vertical-align: middle;\n",
       "    }\n",
       "\n",
       "    .dataframe tbody tr th {\n",
       "        vertical-align: top;\n",
       "    }\n",
       "\n",
       "    .dataframe thead th {\n",
       "        text-align: right;\n",
       "    }\n",
       "</style>\n",
       "<table border=\"1\" class=\"dataframe\">\n",
       "  <thead>\n",
       "    <tr style=\"text-align: right;\">\n",
       "      <th></th>\n",
       "      <th>Height</th>\n",
       "      <th>Reach</th>\n",
       "      <th>Weight</th>\n",
       "      <th>age</th>\n",
       "      <th>loss</th>\n",
       "      <th>win</th>\n",
       "      <th>draws</th>\n",
       "      <th>streak</th>\n",
       "      <th>cum_match_time</th>\n",
       "      <th>avg_cum_KD</th>\n",
       "      <th>...</th>\n",
       "      <th>eff_body.1</th>\n",
       "      <th>eff_distance.1</th>\n",
       "      <th>eff_clinch.1</th>\n",
       "      <th>eff_ground.1</th>\n",
       "      <th>title_bout</th>\n",
       "      <th>attendance</th>\n",
       "      <th>num_rounds</th>\n",
       "      <th>label</th>\n",
       "      <th>matches</th>\n",
       "      <th>matches.1</th>\n",
       "    </tr>\n",
       "  </thead>\n",
       "  <tbody>\n",
       "    <tr>\n",
       "      <td>count</td>\n",
       "      <td>5445.000000</td>\n",
       "      <td>5445.000000</td>\n",
       "      <td>5445.000000</td>\n",
       "      <td>5445.000000</td>\n",
       "      <td>5445.000000</td>\n",
       "      <td>5445.000000</td>\n",
       "      <td>5445.000000</td>\n",
       "      <td>5445.000000</td>\n",
       "      <td>5445.000000</td>\n",
       "      <td>5445.000000</td>\n",
       "      <td>...</td>\n",
       "      <td>5445.000000</td>\n",
       "      <td>5445.000000</td>\n",
       "      <td>5445.000000</td>\n",
       "      <td>5445.000000</td>\n",
       "      <td>5445.000000</td>\n",
       "      <td>5228.000000</td>\n",
       "      <td>5445.000000</td>\n",
       "      <td>5445.000000</td>\n",
       "      <td>5445.000000</td>\n",
       "      <td>5445.000000</td>\n",
       "    </tr>\n",
       "    <tr>\n",
       "      <td>mean</td>\n",
       "      <td>68.668687</td>\n",
       "      <td>66.013774</td>\n",
       "      <td>171.218182</td>\n",
       "      <td>29.182837</td>\n",
       "      <td>1.693664</td>\n",
       "      <td>3.218733</td>\n",
       "      <td>0.081543</td>\n",
       "      <td>0.446648</td>\n",
       "      <td>52.633036</td>\n",
       "      <td>0.554738</td>\n",
       "      <td>...</td>\n",
       "      <td>0.661060</td>\n",
       "      <td>0.360591</td>\n",
       "      <td>0.604553</td>\n",
       "      <td>0.586213</td>\n",
       "      <td>0.064279</td>\n",
       "      <td>11213.968822</td>\n",
       "      <td>3.096970</td>\n",
       "      <td>0.494399</td>\n",
       "      <td>5.993939</td>\n",
       "      <td>5.711478</td>\n",
       "    </tr>\n",
       "    <tr>\n",
       "      <td>std</td>\n",
       "      <td>5.367130</td>\n",
       "      <td>20.789434</td>\n",
       "      <td>36.138004</td>\n",
       "      <td>5.940606</td>\n",
       "      <td>2.057719</td>\n",
       "      <td>3.764916</td>\n",
       "      <td>0.293762</td>\n",
       "      <td>1.953338</td>\n",
       "      <td>59.241232</td>\n",
       "      <td>3.024790</td>\n",
       "      <td>...</td>\n",
       "      <td>0.251013</td>\n",
       "      <td>0.139444</td>\n",
       "      <td>0.262399</td>\n",
       "      <td>0.289890</td>\n",
       "      <td>0.245272</td>\n",
       "      <td>6275.326352</td>\n",
       "      <td>0.676682</td>\n",
       "      <td>0.500015</td>\n",
       "      <td>5.519300</td>\n",
       "      <td>4.972033</td>\n",
       "    </tr>\n",
       "    <tr>\n",
       "      <td>min</td>\n",
       "      <td>0.000000</td>\n",
       "      <td>0.000000</td>\n",
       "      <td>0.000000</td>\n",
       "      <td>0.000000</td>\n",
       "      <td>0.000000</td>\n",
       "      <td>0.000000</td>\n",
       "      <td>0.000000</td>\n",
       "      <td>-7.000000</td>\n",
       "      <td>0.120000</td>\n",
       "      <td>0.000000</td>\n",
       "      <td>...</td>\n",
       "      <td>0.000000</td>\n",
       "      <td>0.000000</td>\n",
       "      <td>0.000000</td>\n",
       "      <td>0.000000</td>\n",
       "      <td>0.000000</td>\n",
       "      <td>0.000000</td>\n",
       "      <td>1.000000</td>\n",
       "      <td>0.000000</td>\n",
       "      <td>1.000000</td>\n",
       "      <td>1.000000</td>\n",
       "    </tr>\n",
       "    <tr>\n",
       "      <td>25%</td>\n",
       "      <td>65.000000</td>\n",
       "      <td>69.000000</td>\n",
       "      <td>145.000000</td>\n",
       "      <td>26.700000</td>\n",
       "      <td>0.000000</td>\n",
       "      <td>0.000000</td>\n",
       "      <td>0.000000</td>\n",
       "      <td>-1.000000</td>\n",
       "      <td>15.000000</td>\n",
       "      <td>0.000000</td>\n",
       "      <td>...</td>\n",
       "      <td>0.590000</td>\n",
       "      <td>0.290000</td>\n",
       "      <td>0.530000</td>\n",
       "      <td>0.500000</td>\n",
       "      <td>0.000000</td>\n",
       "      <td>7581.750000</td>\n",
       "      <td>3.000000</td>\n",
       "      <td>0.000000</td>\n",
       "      <td>2.000000</td>\n",
       "      <td>2.000000</td>\n",
       "    </tr>\n",
       "    <tr>\n",
       "      <td>50%</td>\n",
       "      <td>69.000000</td>\n",
       "      <td>72.000000</td>\n",
       "      <td>170.000000</td>\n",
       "      <td>29.510000</td>\n",
       "      <td>1.000000</td>\n",
       "      <td>2.000000</td>\n",
       "      <td>0.000000</td>\n",
       "      <td>0.000000</td>\n",
       "      <td>30.000000</td>\n",
       "      <td>0.000000</td>\n",
       "      <td>...</td>\n",
       "      <td>0.700000</td>\n",
       "      <td>0.360000</td>\n",
       "      <td>0.660000</td>\n",
       "      <td>0.650000</td>\n",
       "      <td>0.000000</td>\n",
       "      <td>10681.000000</td>\n",
       "      <td>3.000000</td>\n",
       "      <td>0.000000</td>\n",
       "      <td>4.000000</td>\n",
       "      <td>4.000000</td>\n",
       "    </tr>\n",
       "    <tr>\n",
       "      <td>75%</td>\n",
       "      <td>73.000000</td>\n",
       "      <td>75.000000</td>\n",
       "      <td>185.000000</td>\n",
       "      <td>32.350000</td>\n",
       "      <td>2.000000</td>\n",
       "      <td>5.000000</td>\n",
       "      <td>0.000000</td>\n",
       "      <td>1.000000</td>\n",
       "      <td>74.350000</td>\n",
       "      <td>0.400000</td>\n",
       "      <td>...</td>\n",
       "      <td>0.810000</td>\n",
       "      <td>0.430000</td>\n",
       "      <td>0.750000</td>\n",
       "      <td>0.760000</td>\n",
       "      <td>0.000000</td>\n",
       "      <td>14666.000000</td>\n",
       "      <td>3.000000</td>\n",
       "      <td>1.000000</td>\n",
       "      <td>8.000000</td>\n",
       "      <td>8.000000</td>\n",
       "    </tr>\n",
       "    <tr>\n",
       "      <td>max</td>\n",
       "      <td>80.000000</td>\n",
       "      <td>84.000000</td>\n",
       "      <td>770.000000</td>\n",
       "      <td>51.930000</td>\n",
       "      <td>15.000000</td>\n",
       "      <td>23.000000</td>\n",
       "      <td>3.000000</td>\n",
       "      <td>16.000000</td>\n",
       "      <td>388.190000</td>\n",
       "      <td>83.330000</td>\n",
       "      <td>...</td>\n",
       "      <td>1.000000</td>\n",
       "      <td>1.000000</td>\n",
       "      <td>1.000000</td>\n",
       "      <td>1.000000</td>\n",
       "      <td>1.000000</td>\n",
       "      <td>57127.000000</td>\n",
       "      <td>5.000000</td>\n",
       "      <td>1.000000</td>\n",
       "      <td>34.000000</td>\n",
       "      <td>33.000000</td>\n",
       "    </tr>\n",
       "  </tbody>\n",
       "</table>\n",
       "<p>8 rows × 86 columns</p>\n",
       "</div>"
      ],
      "text/plain": [
       "            Height        Reach       Weight          age         loss  \\\n",
       "count  5445.000000  5445.000000  5445.000000  5445.000000  5445.000000   \n",
       "mean     68.668687    66.013774   171.218182    29.182837     1.693664   \n",
       "std       5.367130    20.789434    36.138004     5.940606     2.057719   \n",
       "min       0.000000     0.000000     0.000000     0.000000     0.000000   \n",
       "25%      65.000000    69.000000   145.000000    26.700000     0.000000   \n",
       "50%      69.000000    72.000000   170.000000    29.510000     1.000000   \n",
       "75%      73.000000    75.000000   185.000000    32.350000     2.000000   \n",
       "max      80.000000    84.000000   770.000000    51.930000    15.000000   \n",
       "\n",
       "               win        draws       streak  cum_match_time   avg_cum_KD  \\\n",
       "count  5445.000000  5445.000000  5445.000000     5445.000000  5445.000000   \n",
       "mean      3.218733     0.081543     0.446648       52.633036     0.554738   \n",
       "std       3.764916     0.293762     1.953338       59.241232     3.024790   \n",
       "min       0.000000     0.000000    -7.000000        0.120000     0.000000   \n",
       "25%       0.000000     0.000000    -1.000000       15.000000     0.000000   \n",
       "50%       2.000000     0.000000     0.000000       30.000000     0.000000   \n",
       "75%       5.000000     0.000000     1.000000       74.350000     0.400000   \n",
       "max      23.000000     3.000000    16.000000      388.190000    83.330000   \n",
       "\n",
       "       ...   eff_body.1  eff_distance.1  eff_clinch.1  eff_ground.1  \\\n",
       "count  ...  5445.000000     5445.000000   5445.000000   5445.000000   \n",
       "mean   ...     0.661060        0.360591      0.604553      0.586213   \n",
       "std    ...     0.251013        0.139444      0.262399      0.289890   \n",
       "min    ...     0.000000        0.000000      0.000000      0.000000   \n",
       "25%    ...     0.590000        0.290000      0.530000      0.500000   \n",
       "50%    ...     0.700000        0.360000      0.660000      0.650000   \n",
       "75%    ...     0.810000        0.430000      0.750000      0.760000   \n",
       "max    ...     1.000000        1.000000      1.000000      1.000000   \n",
       "\n",
       "        title_bout    attendance   num_rounds        label      matches  \\\n",
       "count  5445.000000   5228.000000  5445.000000  5445.000000  5445.000000   \n",
       "mean      0.064279  11213.968822     3.096970     0.494399     5.993939   \n",
       "std       0.245272   6275.326352     0.676682     0.500015     5.519300   \n",
       "min       0.000000      0.000000     1.000000     0.000000     1.000000   \n",
       "25%       0.000000   7581.750000     3.000000     0.000000     2.000000   \n",
       "50%       0.000000  10681.000000     3.000000     0.000000     4.000000   \n",
       "75%       0.000000  14666.000000     3.000000     1.000000     8.000000   \n",
       "max       1.000000  57127.000000     5.000000     1.000000    34.000000   \n",
       "\n",
       "         matches.1  \n",
       "count  5445.000000  \n",
       "mean      5.711478  \n",
       "std       4.972033  \n",
       "min       1.000000  \n",
       "25%       2.000000  \n",
       "50%       4.000000  \n",
       "75%       8.000000  \n",
       "max      33.000000  \n",
       "\n",
       "[8 rows x 86 columns]"
      ]
     },
     "execution_count": 372,
     "metadata": {},
     "output_type": "execute_result"
    }
   ],
   "source": [
    "df.describe()"
   ]
  },
  {
   "cell_type": "markdown",
   "metadata": {},
   "source": [
    "# Check for missing values:"
   ]
  },
  {
   "cell_type": "code",
   "execution_count": 373,
   "metadata": {},
   "outputs": [],
   "source": [
    "pd.set_option('display.max_rows', 100)\n",
    "\n",
    "#df.isna().any()\n",
    "#Null columns are Stance and Attendance\n",
    "\n",
    "#Orthodox is overwhelming majority --> impute stance as Orthodox"
   ]
  },
  {
   "cell_type": "code",
   "execution_count": 374,
   "metadata": {},
   "outputs": [
    {
     "data": {
      "text/plain": [
       "Stance\n",
       " Open Stance      13\n",
       " Orthodox       4012\n",
       " Southpaw       1079\n",
       " Switch          187\n",
       "Name: Winner, dtype: int64"
      ]
     },
     "execution_count": 374,
     "metadata": {},
     "output_type": "execute_result"
    }
   ],
   "source": [
    "df.groupby('Stance').count()['Winner']"
   ]
  },
  {
   "cell_type": "code",
   "execution_count": 375,
   "metadata": {},
   "outputs": [
    {
     "data": {
      "text/plain": [
       "Stance.1\n",
       " Open Stance      11\n",
       " Orthodox       4060\n",
       " Sideways          6\n",
       " Southpaw       1054\n",
       " Switch          166\n",
       "Name: Winner, dtype: int64"
      ]
     },
     "execution_count": 375,
     "metadata": {},
     "output_type": "execute_result"
    }
   ],
   "source": [
    "df.groupby('Stance.1').count()['Winner']"
   ]
  },
  {
   "cell_type": "code",
   "execution_count": 376,
   "metadata": {},
   "outputs": [],
   "source": [
    "df['Stance'].fillna('Orthodox', inplace = True)\n",
    "df['Stance.1'].fillna('Orthodox', inplace = True)"
   ]
  },
  {
   "cell_type": "code",
   "execution_count": 377,
   "metadata": {},
   "outputs": [
    {
     "name": "stdout",
     "output_type": "stream",
     "text": [
      "Num obs with 0 height: 10\n",
      "Num obs with 0 weight: 7\n",
      "Num obs with 0 reach: 713\n",
      "Num obs with 0 all: 2\n",
      "Num obs with 0 all.1: 6\n"
     ]
    }
   ],
   "source": [
    "#check missing value for height, weight, reach:\n",
    "\n",
    "print('Num obs with 0 height: {}'.format(df[(df['Height'] == 0) | (df['Height.1'] == 0)].shape[0]))\n",
    "print('Num obs with 0 weight: {}'.format(df[(df['Weight'] == 0) | (df['Weight.1'] == 0)].shape[0]))\n",
    "print('Num obs with 0 reach: {}'.format(df[(df['Reach'] == 0) | (df['Reach.1'] == 0)].shape[0]))\n",
    "\n",
    "#Missing all attributes:\n",
    "print('Num obs with 0 all: {}'.format(df[(df['Height'] == 0) & \n",
    "                                         (df['Weight'] == 0) & \n",
    "                                         (df['Reach'] == 0)].shape[0]))\n",
    "\n",
    "print('Num obs with 0 all.1: {}'.format(df[(df['Height.1'] == 0) & \n",
    "                                         (df['Weight.1'] == 0) & \n",
    "                                         (df['Reach.1'] == 0)]\n",
    "                                        .shape[0]))\n",
    "\n"
   ]
  },
  {
   "cell_type": "markdown",
   "metadata": {},
   "source": [
    "### Imputing physical attributes from the remaining two:"
   ]
  },
  {
   "cell_type": "code",
   "execution_count": 378,
   "metadata": {},
   "outputs": [],
   "source": [
    "#Group all physical attributes together:\n",
    "\n",
    "predictors = df[(df['Height'] != 0) & \n",
    "                (df['Weight'] != 0) & \n",
    "                (df['Reach'] != 0)][['Height', 'Weight', 'Reach']].copy()\n",
    "\n",
    "predictors_1 = df[(df['Height.1'] != 0) & \n",
    "                (df['Weight.1'] != 0) & \n",
    "                (df['Reach.1'] != 0)][['Height.1', 'Weight.1', 'Reach.1']].copy()\n",
    "\n",
    "predictors_1.columns = ['Height','Weight', 'Reach']\n",
    "\n",
    "predictors = pd.concat([predictors, predictors_1], axis = 0)\n",
    "predictors.reset_index(drop = True, inplace = True)"
   ]
  },
  {
   "cell_type": "code",
   "execution_count": 379,
   "metadata": {},
   "outputs": [],
   "source": [
    "mean_height = np.mean(predictors['Height'])\n",
    "mean_weight = np.mean(predictors['Weight'])"
   ]
  },
  {
   "cell_type": "markdown",
   "metadata": {},
   "source": [
    "### Imputing Height / Weight with average:"
   ]
  },
  {
   "cell_type": "code",
   "execution_count": 380,
   "metadata": {},
   "outputs": [],
   "source": [
    "df[df['Height'] == 0] #Infer 1 observation with weight 205 \n",
    "df[df['Height.1']== 0][['Weight.1']] #Infer 2 observation with weight 155\n",
    "\n",
    "ht_pred = predictors.groupby('Weight').mean().loc[205]\n",
    "ht_pred1 = predictors.groupby('Weight').mean().loc[155]\n",
    "\n",
    "df.loc[4001, 'Height'] = ht_pred[0]\n",
    "df.loc[[3796, 3912], 'Height.1'] = ht_pred1[0]"
   ]
  },
  {
   "cell_type": "code",
   "execution_count": 381,
   "metadata": {},
   "outputs": [],
   "source": [
    "height_index = df[df['Height'] == 0].index\n",
    "height_index1 = df[df['Height.1'] == 0].index\n",
    "df.loc[height_index, 'Height'] = mean_height\n",
    "df.loc[height_index1, 'Height.1'] = mean_height\n",
    "\n",
    "weight_index = df[df['Weight'] == 0].index\n",
    "weight_index1 = df[df['Weight.1'] == 0].index\n",
    "df.loc[weight_index, 'Weight'] = mean_weight\n",
    "df.loc[weight_index1, 'Weight.1'] = mean_weight"
   ]
  },
  {
   "cell_type": "markdown",
   "metadata": {},
   "source": [
    "### Impute Reach from Height & Weight:"
   ]
  },
  {
   "cell_type": "code",
   "execution_count": 382,
   "metadata": {},
   "outputs": [],
   "source": [
    "from sklearn.linear_model import LinearRegression"
   ]
  },
  {
   "cell_type": "code",
   "execution_count": 383,
   "metadata": {},
   "outputs": [],
   "source": [
    "X = predictors[['Height', 'Weight']].copy()\n",
    "y = predictors['Reach'].copy()"
   ]
  },
  {
   "cell_type": "code",
   "execution_count": 384,
   "metadata": {},
   "outputs": [
    {
     "data": {
      "text/plain": [
       "array([0.17157901, 0.0774672 ])"
      ]
     },
     "execution_count": 384,
     "metadata": {},
     "output_type": "execute_result"
    }
   ],
   "source": [
    "linMod = LinearRegression()\n",
    "linMod.fit(X, y)\n",
    "linMod.coef_"
   ]
  },
  {
   "cell_type": "code",
   "execution_count": 385,
   "metadata": {},
   "outputs": [],
   "source": [
    "reach_miss = df[df['Reach'] == 0][['Height', 'Weight']]\n",
    "reach_miss1 = df[df['Reach.1'] == 0][['Height.1', 'Weight.1']]\n",
    "\n",
    "reach_miss_index = reach_miss.index\n",
    "reach_miss1_index = reach_miss1.index"
   ]
  },
  {
   "cell_type": "code",
   "execution_count": 386,
   "metadata": {},
   "outputs": [],
   "source": [
    "imputed_miss = pd.Series(linMod.predict(reach_miss), index = reach_miss_index)\n",
    "imputed_miss1 = pd.Series(linMod.predict(reach_miss1), index = reach_miss1_index)"
   ]
  },
  {
   "cell_type": "code",
   "execution_count": 387,
   "metadata": {},
   "outputs": [],
   "source": [
    "df.loc[reach_miss_index, 'Reach'] = imputed_miss\n",
    "df.loc[reach_miss1_index, 'Reach.1'] = imputed_miss1"
   ]
  },
  {
   "cell_type": "markdown",
   "metadata": {},
   "source": [
    "# Exploratory Data Analysis:"
   ]
  },
  {
   "cell_type": "markdown",
   "metadata": {},
   "source": [
    "### Fighter physical traits:"
   ]
  },
  {
   "cell_type": "code",
   "execution_count": 388,
   "metadata": {},
   "outputs": [
    {
     "data": {
      "image/png": "[encoded data removed]",
      "text/plain": [
       "<Figure size 1080x1080 with 4 Axes>"
      ]
     },
     "metadata": {
      "needs_background": "light"
     },
     "output_type": "display_data"
    }
   ],
   "source": [
    "f, ax = plt.subplots(2, 2, figsize=[15,15])\n",
    "\n",
    "sns.scatterplot(x=df['Height'], y=df['Reach'], ax=ax[0,0])\n",
    "sns.scatterplot(x=df['Height.1'], y=df['Reach.1'], ax=ax[0,1])\n",
    "\n",
    "sns.scatterplot(x=df['Height'], y=df['Weight'], ax=ax[1,0])\n",
    "sns.scatterplot(x=df['Height.1'], y=df['Weight.1'], ax=ax[1,1]);"
   ]
  },
  {
   "cell_type": "markdown",
   "metadata": {},
   "source": [
    "### Let's look at the effect of attribute differences:"
   ]
  },
  {
   "cell_type": "code",
   "execution_count": 389,
   "metadata": {},
   "outputs": [],
   "source": [
    "#Difference is measured as fighter 0 - fighter 1\n",
    "\n",
    "df['Reach_diff'] = df['Reach'] - df['Reach.1']\n",
    "df['Weight_diff'] = df['Weight'] - df['Weight.1']\n",
    "df['Height_diff'] = df['Height'] - df['Height.1']"
   ]
  },
  {
   "cell_type": "code",
   "execution_count": 390,
   "metadata": {},
   "outputs": [],
   "source": [
    "groupby_reach = df.groupby('Reach_diff').mean()['label']\n",
    "groupby_weight = df.groupby('Weight_diff').mean()['label']\n",
    "groupby_height = df.groupby('Height_diff').mean()['label']"
   ]
  },
  {
   "cell_type": "code",
   "execution_count": 391,
   "metadata": {},
   "outputs": [
    {
     "data": {
      "image/png": "[encoded data removed]",
      "text/plain": [
       "<Figure size 648x1080 with 3 Axes>"
      ]
     },
     "metadata": {
      "needs_background": "light"
     },
     "output_type": "display_data"
    }
   ],
   "source": [
    "f, ax = plt.subplots(3, 1, figsize=[9,15])\n",
    "\n",
    "sns.scatterplot(x=groupby_reach.index, y=groupby_reach.values, ax=ax[0])\n",
    "sns.scatterplot(x=groupby_weight.index, y=groupby_weight.values, ax=ax[1])\n",
    "sns.scatterplot(x=groupby_height.index, y=groupby_height.values, ax=ax[2])\n",
    "\n",
    "ax[0].set_title('Effect of Reach on Winning %')\n",
    "ax[1].set_title('Effect of Weight on Winning %')\n",
    "ax[2].set_title('Effect of Height on Winning %');\n",
    "\n",
    "#Negative difference indicate, fighter 0 is physicall smaller\n",
    "#Looks like all physical attributes have small linear relationship"
   ]
  },
  {
   "cell_type": "markdown",
   "metadata": {},
   "source": [
    "### Visualizing Age"
   ]
  },
  {
   "cell_type": "code",
   "execution_count": 392,
   "metadata": {},
   "outputs": [
    {
     "data": {
      "text/plain": [
       "0       (30.0, 28.0)\n",
       "1       (34.0, 42.0)\n",
       "2       (34.0, 31.0)\n",
       "3       (28.0, 28.0)\n",
       "4       (42.0, 35.0)\n",
       "            ...     \n",
       "5530    (35.0, 27.0)\n",
       "5532    (27.0, 30.0)\n",
       "5534    (30.0, 30.0)\n",
       "5535    (27.0, 30.0)\n",
       "5537    (35.0, 24.0)\n",
       "Name: age_key, Length: 5253, dtype: object"
      ]
     },
     "execution_count": 392,
     "metadata": {},
     "output_type": "execute_result"
    }
   ],
   "source": [
    "df['round_age'] = df['age'].apply(lambda x: round(x,0))\n",
    "df['round_age.1'] = df['age.1'].apply(lambda x: round(x,0))\n",
    "\n",
    "age_df = df[(df['age'] != 0) & (df['age.1'] != 0)].copy()\n",
    "\n",
    "age_df['age_key'] = age_df[['round_age', 'round_age.1']].apply(tuple, axis = 1)\n",
    "age_df['age_key']"
   ]
  },
  {
   "cell_type": "code",
   "execution_count": 393,
   "metadata": {},
   "outputs": [
    {
     "data": {
      "text/plain": [
       "122"
      ]
     },
     "execution_count": 393,
     "metadata": {},
     "output_type": "execute_result"
    }
   ],
   "source": [
    "age_group = age_df.groupby('age_key').mean()['label']\n",
    "age_group_df = pd.DataFrame(age_group.index.tolist())\n",
    "age_group_df['label'] = age_group.values\n",
    "age_group_df.columns = ['age', 'age.1', 'label']\n",
    "len(set(age_group_df['label']))"
   ]
  },
  {
   "cell_type": "code",
   "execution_count": 394,
   "metadata": {},
   "outputs": [
    {
     "data": {
      "image/png": "[encoded data removed]",
      "text/plain": [
       "<Figure size 648x360 with 1 Axes>"
      ]
     },
     "metadata": {
      "needs_background": "light"
     },
     "output_type": "display_data"
    }
   ],
   "source": [
    "f, ax = plt.subplots(figsize=[9,5])\n",
    "\n",
    "sns.scatterplot(x = 'age', y = 'age.1', hue = 'label', data = age_group_df, \n",
    "                palette = sns.color_palette(\"coolwarm\", 122), legend=False, ax=ax);\n",
    "\n",
    "ax.set_title('Winning Proportion by Age')\n",
    "ax.set_xlabel('Blue Age')\n",
    "ax.set_ylabel('Red Age');"
   ]
  },
  {
   "cell_type": "markdown",
   "metadata": {},
   "source": [
    "### Stance Distribution:"
   ]
  },
  {
   "cell_type": "code",
   "execution_count": 395,
   "metadata": {},
   "outputs": [],
   "source": [
    "df['Stance'] = df['Stance'].apply(lambda x: x.strip())\n",
    "df['Stance.1'] = df['Stance.1'].apply(lambda x: x.strip())"
   ]
  },
  {
   "cell_type": "code",
   "execution_count": 396,
   "metadata": {},
   "outputs": [
    {
     "data": {
      "image/png": "[encoded data removed]",
      "text/plain": [
       "<Figure size 432x288 with 1 Axes>"
      ]
     },
     "metadata": {
      "needs_background": "light"
     },
     "output_type": "display_data"
    }
   ],
   "source": [
    "stances = pd.concat([df['Stance'], df['Stance.1']], axis = 0)\n",
    "stances = stances.value_counts()\n",
    "sns.barplot(x=stances.index, y=stances.values);"
   ]
  },
  {
   "cell_type": "code",
   "execution_count": 397,
   "metadata": {},
   "outputs": [],
   "source": [
    "df.to_csv('to_model.csv')"
   ]
  },
  {
   "cell_type": "code",
   "execution_count": null,
   "metadata": {},
   "outputs": [],
   "source": []
  },
  {
   "cell_type": "code",
   "execution_count": null,
   "metadata": {},
   "outputs": [],
   "source": []
  },
  {
   "cell_type": "code",
   "execution_count": null,
   "metadata": {},
   "outputs": [],
   "source": []
  },
  {
   "cell_type": "code",
   "execution_count": null,
   "metadata": {},
   "outputs": [],
   "source": []
  }
 ],
 "metadata": {
  "kernelspec": {
   "display_name": "Python 3",
   "language": "python",
   "name": "python3"
  },
  "language_info": {
   "codemirror_mode": {
    "name": "ipython",
    "version": 3
   },
   "file_extension": ".py",
   "mimetype": "text/x-python",
   "name": "python",
   "nbconvert_exporter": "python",
   "pygments_lexer": "ipython3",
   "version": "3.7.1"
  }
 },
 "nbformat": 4,
 "nbformat_minor": 2
}
